{
 "cells": [
  {
   "cell_type": "code",
   "execution_count": 82,
   "metadata": {},
   "outputs": [],
   "source": [
    "import numpy as np"
   ]
  },
  {
   "cell_type": "code",
   "execution_count": 83,
   "metadata": {},
   "outputs": [],
   "source": [
    "max_horizontal_distance = 10000\n",
    "max_vertical_distance = 1000 #Precisa ser menor que max_horizontal_distance\n",
    "thetas = 40\n",
    "phis = 8\n",
    "delta_theta = 2*np.pi/thetas\n",
    "resolution = 0.5\n",
    "phis_angles = np.arcsin(np.arange(1/phis/2 + 1/phis, 1, 1/phis))\n",
    "tangents = np.tan(np.pi/2 - phis_angles)\n",
    "# indices = np.indices(xds.rio.shape)"
   ]
  },
  {
   "cell_type": "code",
   "execution_count": 85,
   "metadata": {},
   "outputs": [
    {
     "data": {
      "text/plain": [
       "array([ 20.,  39.,  58.,  81., 114., 168., 290.])"
      ]
     },
     "execution_count": 85,
     "metadata": {},
     "output_type": "execute_result"
    }
   ],
   "source": [
    "## Aqui --<-->--\n",
    "## Resampling rates downscale\n",
    "np.floor((tangents[::-1] * 1000) * np.pi * 2 / thetas * resolution * (np.sqrt(2) / 2))"
   ]
  },
  {
   "cell_type": "code",
   "execution_count": 66,
   "metadata": {},
   "outputs": [
    {
     "data": {
      "text/plain": [
       "array([69.63586519, 54.3409123 , 43.43253656, 34.22886633, 25.94447977,\n",
       "       18.20995686, 10.80692287])"
      ]
     },
     "execution_count": 66,
     "metadata": {},
     "output_type": "execute_result"
    }
   ],
   "source": [
    "np.rad2deg(phis_angles[::-1])"
   ]
  },
  {
   "cell_type": "code",
   "execution_count": 63,
   "metadata": {},
   "outputs": [
    {
     "data": {
      "text/plain": [
       "array([ 371.18429086,  717.49069639, 1056.26818533, 1469.86183948,\n",
       "       2055.35636713, 3039.73683071, 5238.7445485 ])"
      ]
     },
     "execution_count": 63,
     "metadata": {},
     "output_type": "execute_result"
    }
   ],
   "source": [
    "1000 / np.tan(phis_angles[::-1])"
   ]
  },
  {
   "cell_type": "code",
   "execution_count": null,
   "metadata": {},
   "outputs": [],
   "source": []
  }
 ],
 "metadata": {
  "kernelspec": {
   "display_name": "Python 3.9.7 ('venv': venv)",
   "language": "python",
   "name": "python3"
  },
  "language_info": {
   "codemirror_mode": {
    "name": "ipython",
    "version": 3
   },
   "file_extension": ".py",
   "mimetype": "text/x-python",
   "name": "python",
   "nbconvert_exporter": "python",
   "pygments_lexer": "ipython3",
   "version": "3.9.7"
  },
  "orig_nbformat": 4,
  "vscode": {
   "interpreter": {
    "hash": "6ea3d0ec775621a4294f4c8dde5c59c60cc28606eb615b8823afd13b1c24c865"
   }
  }
 },
 "nbformat": 4,
 "nbformat_minor": 2
}
