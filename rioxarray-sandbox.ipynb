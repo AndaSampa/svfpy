{
 "cells": [
  {
   "cell_type": "code",
   "execution_count": 83,
   "metadata": {},
   "outputs": [],
   "source": [
    "import rioxarray\n",
    "import numpy as np\n",
    "import cv2 as cv\n",
    "from scipy.ndimage import rotate"
   ]
  },
  {
   "cell_type": "code",
   "execution_count": 2,
   "metadata": {},
   "outputs": [],
   "source": [
    "file = 'test/data/mds_sao_paulo_city_1000.tiff'"
   ]
  },
  {
   "cell_type": "code",
   "execution_count": 3,
   "metadata": {},
   "outputs": [],
   "source": [
    "xds = rioxarray.open_rasterio(file)"
   ]
  },
  {
   "cell_type": "code",
   "execution_count": 4,
   "metadata": {},
   "outputs": [
    {
     "data": {
      "text/plain": [
       "(1000, 1000)"
      ]
     },
     "execution_count": 4,
     "metadata": {},
     "output_type": "execute_result"
    }
   ],
   "source": [
    "xds.rio.width, xds.rio.height"
   ]
  },
  {
   "cell_type": "code",
   "execution_count": 5,
   "metadata": {},
   "outputs": [],
   "source": [
    "a = np.random.randint(0, 16, (4,4))"
   ]
  },
  {
   "cell_type": "code",
   "execution_count": 6,
   "metadata": {},
   "outputs": [
    {
     "data": {
      "text/plain": [
       "array([[ 3,  2,  8, 15],\n",
       "       [14, 14,  8, 12],\n",
       "       [12, 10,  6,  5],\n",
       "       [ 6,  8,  0, 13]])"
      ]
     },
     "execution_count": 6,
     "metadata": {},
     "output_type": "execute_result"
    }
   ],
   "source": [
    "a"
   ]
  },
  {
   "cell_type": "code",
   "execution_count": 92,
   "metadata": {},
   "outputs": [],
   "source": [
    "c = np.arange(144).reshape(12, 12)"
   ]
  },
  {
   "cell_type": "code",
   "execution_count": 93,
   "metadata": {},
   "outputs": [
    {
     "data": {
      "text/plain": [
       "array([[  0,   1,   2,   3,   4,   5,   6,   7,   8,   9,  10,  11],\n",
       "       [ 12,  13,  14,  15,  16,  17,  18,  19,  20,  21,  22,  23],\n",
       "       [ 24,  25,  26,  27,  28,  29,  30,  31,  32,  33,  34,  35],\n",
       "       [ 36,  37,  38,  39,  40,  41,  42,  43,  44,  45,  46,  47],\n",
       "       [ 48,  49,  50,  51,  52,  53,  54,  55,  56,  57,  58,  59],\n",
       "       [ 60,  61,  62,  63,  64,  65,  66,  67,  68,  69,  70,  71],\n",
       "       [ 72,  73,  74,  75,  76,  77,  78,  79,  80,  81,  82,  83],\n",
       "       [ 84,  85,  86,  87,  88,  89,  90,  91,  92,  93,  94,  95],\n",
       "       [ 96,  97,  98,  99, 100, 101, 102, 103, 104, 105, 106, 107],\n",
       "       [108, 109, 110, 111, 112, 113, 114, 115, 116, 117, 118, 119],\n",
       "       [120, 121, 122, 123, 124, 125, 126, 127, 128, 129, 130, 131],\n",
       "       [132, 133, 134, 135, 136, 137, 138, 139, 140, 141, 142, 143]])"
      ]
     },
     "execution_count": 93,
     "metadata": {},
     "output_type": "execute_result"
    }
   ],
   "source": [
    "c"
   ]
  },
  {
   "cell_type": "code",
   "execution_count": 95,
   "metadata": {},
   "outputs": [
    {
     "data": {
      "text/plain": [
       "array([[  0,   0,   0,   0,   0,   7,   9,  14,  19,  24,   0,   0],\n",
       "       [  0,   0,   4,   8,  13,  19,  23,  27,  31,  35,   0,   0],\n",
       "       [  8,  13,  18,  22,  26,  30,  34,  38,  42,  46,  50,   0],\n",
       "       [ 21,  25,  29,  33,  37,  41,  45,  49,  53,  57,  62,   0],\n",
       "       [ 32,  36,  40,  44,  48,  52,  57,  61,  65,  69,  73,   0],\n",
       "       [ 43,  48,  52,  56,  60,  64,  68,  72,  76,  80,  84,  88],\n",
       "       [ 55,  59,  63,  67,  71,  75,  79,  83,  87,  91,  95, 100],\n",
       "       [  0,  70,  74,  78,  82,  86,  91,  95,  99, 103, 107, 111],\n",
       "       [  0,  81,  86,  90,  94,  98, 102, 106, 110, 114, 118, 122],\n",
       "       [  0,  93,  97, 101, 105, 109, 113, 117, 121, 125, 130, 135],\n",
       "       [  0,   0, 108, 112, 116, 120, 124, 130, 135, 139,   0,   0],\n",
       "       [  0,   0, 119, 124, 129, 134, 136,   0,   0,   0,   0,   0]])"
      ]
     },
     "execution_count": 95,
     "metadata": {},
     "output_type": "execute_result"
    }
   ],
   "source": [
    "rotate(c, 15, reshape=False)"
   ]
  },
  {
   "cell_type": "code",
   "execution_count": 81,
   "metadata": {},
   "outputs": [],
   "source": [
    "M = cv.getRotationMatrix2D((1.5,1.5), 15, 1)\n",
    "rotated = cv.warpAffine(c, M, (4, 4))"
   ]
  },
  {
   "cell_type": "code",
   "execution_count": 82,
   "metadata": {},
   "outputs": [
    {
     "data": {
      "text/plain": [
       "array([[ 0.28710938,  1.3183594 ,  3.125     ,  3.1171875 ],\n",
       "       [ 2.6875    ,  4.65625   ,  6.75      ,  7.8164062 ],\n",
       "       [ 5.9765625 ,  8.25      , 10.34375   , 12.3125    ],\n",
       "       [ 6.7265625 , 11.875     , 12.319336  ,  9.556641  ]],\n",
       "      dtype=float32)"
      ]
     },
     "execution_count": 82,
     "metadata": {},
     "output_type": "execute_result"
    }
   ],
   "source": [
    "rotated"
   ]
  },
  {
   "cell_type": "code",
   "execution_count": 49,
   "metadata": {},
   "outputs": [
    {
     "data": {
      "text/plain": [
       "array([[ 0.99990605,  0.01370735, -0.05445362],\n",
       "       [-0.01370735,  0.99990605,  0.05520522]])"
      ]
     },
     "execution_count": 49,
     "metadata": {},
     "output_type": "execute_result"
    }
   ],
   "source": [
    "M"
   ]
  },
  {
   "cell_type": "code",
   "execution_count": 7,
   "metadata": {},
   "outputs": [
    {
     "data": {
      "text/plain": [
       "array([[ 3,  3,  8, 15],\n",
       "       [14, 14, 14, 14],\n",
       "       [12, 12, 12, 12],\n",
       "       [ 6,  8,  8, 13]])"
      ]
     },
     "execution_count": 7,
     "metadata": {},
     "output_type": "execute_result"
    }
   ],
   "source": [
    "np.maximum.accumulate(a, axis=1)"
   ]
  },
  {
   "cell_type": "code",
   "execution_count": 8,
   "metadata": {},
   "outputs": [
    {
     "data": {
      "text/plain": [
       "array([[ 3,  2,  8, 15],\n",
       "       [14, 14,  8, 15],\n",
       "       [14, 14,  8, 15],\n",
       "       [14, 14,  8, 15]])"
      ]
     },
     "execution_count": 8,
     "metadata": {},
     "output_type": "execute_result"
    }
   ],
   "source": [
    "np.maximum.accumulate(a, axis=0)"
   ]
  },
  {
   "cell_type": "code",
   "execution_count": 9,
   "metadata": {},
   "outputs": [
    {
     "data": {
      "text/plain": [
       "array([[ 3,  3,  8, 15],\n",
       "       [14, 14, 14, 15],\n",
       "       [14, 14, 12, 15],\n",
       "       [14, 14,  8, 15]])"
      ]
     },
     "execution_count": 9,
     "metadata": {},
     "output_type": "execute_result"
    }
   ],
   "source": [
    "np.maximum(np.maximum.accumulate(a, axis=1), np.maximum.accumulate(a, axis=0))"
   ]
  },
  {
   "cell_type": "code",
   "execution_count": 10,
   "metadata": {},
   "outputs": [
    {
     "data": {
      "text/plain": [
       "array([[ True, False,  True,  True],\n",
       "       [ True,  True, False, False],\n",
       "       [ True, False, False, False],\n",
       "       [ True,  True, False,  True]])"
      ]
     },
     "execution_count": 10,
     "metadata": {},
     "output_type": "execute_result"
    }
   ],
   "source": [
    "# np.argsort(a, axis=1, kind='stable')#, np.argsort(a, axis=1, kind='stable')\n",
    "np.less_equal(np.maximum.accumulate(a, axis=1), a)"
   ]
  },
  {
   "cell_type": "code",
   "execution_count": 11,
   "metadata": {},
   "outputs": [
    {
     "data": {
      "text/plain": [
       "array([[[0, 0, 0, 0],\n",
       "        [1, 1, 1, 1],\n",
       "        [2, 2, 2, 2],\n",
       "        [3, 3, 3, 3]],\n",
       "\n",
       "       [[0, 1, 2, 3],\n",
       "        [0, 1, 2, 3],\n",
       "        [0, 1, 2, 3],\n",
       "        [0, 1, 2, 3]]])"
      ]
     },
     "execution_count": 11,
     "metadata": {},
     "output_type": "execute_result"
    }
   ],
   "source": [
    "np.indices(a.shape)"
   ]
  },
  {
   "cell_type": "code",
   "execution_count": 12,
   "metadata": {},
   "outputs": [
    {
     "data": {
      "text/plain": [
       "array([[ True,  True,  True,  True],\n",
       "       [False, False,  True,  True],\n",
       "       [ True,  True,  True,  True],\n",
       "       [ True,  True,  True,  True]])"
      ]
     },
     "execution_count": 12,
     "metadata": {},
     "output_type": "execute_result"
    }
   ],
   "source": [
    "np.logical_or(np.less_equal(np.argsort(a, axis=0, kind='stable'), np.indices((4, 4))[0]), \n",
    "            np.less_equal(np.argsort(a, axis=1, kind='stable'), np.indices((4, 4))[1]))"
   ]
  },
  {
   "cell_type": "code",
   "execution_count": 13,
   "metadata": {},
   "outputs": [
    {
     "data": {
      "text/plain": [
       "array([[[  0,   0,   0, ...,   0,   0,   0],\n",
       "        [  1,   1,   1, ...,   1,   1,   1],\n",
       "        [  2,   2,   2, ...,   2,   2,   2],\n",
       "        ...,\n",
       "        [997, 997, 997, ..., 997, 997, 997],\n",
       "        [998, 998, 998, ..., 998, 998, 998],\n",
       "        [999, 999, 999, ..., 999, 999, 999]],\n",
       "\n",
       "       [[  0,   1,   2, ..., 997, 998, 999],\n",
       "        [  0,   1,   2, ..., 997, 998, 999],\n",
       "        [  0,   1,   2, ..., 997, 998, 999],\n",
       "        ...,\n",
       "        [  0,   1,   2, ..., 997, 998, 999],\n",
       "        [  0,   1,   2, ..., 997, 998, 999],\n",
       "        [  0,   1,   2, ..., 997, 998, 999]]])"
      ]
     },
     "execution_count": 13,
     "metadata": {},
     "output_type": "execute_result"
    }
   ],
   "source": [
    "np.indices((1000, 1000))"
   ]
  },
  {
   "cell_type": "code",
   "execution_count": 14,
   "metadata": {},
   "outputs": [
    {
     "data": {
      "text/plain": [
       "(1, 1000, 1000)"
      ]
     },
     "execution_count": 14,
     "metadata": {},
     "output_type": "execute_result"
    }
   ],
   "source": [
    "xds.values.shape"
   ]
  },
  {
   "cell_type": "code",
   "execution_count": 15,
   "metadata": {},
   "outputs": [],
   "source": [
    "# A distancia de X é Cosseno de Theta * tangente de Phi * Z\n",
    "# A distancia de Y é Seno de Theta * tangente de Phi * Z\n",
    "# O item 0,0 é o limite e origem das comparações, independente da sua altura\n"
   ]
  },
  {
   "cell_type": "code",
   "execution_count": 16,
   "metadata": {},
   "outputs": [],
   "source": [
    "thetas = 32 # deve ser divisível por 4\n",
    "phis = 8\n",
    "delta_theta = 2*np.pi/thetas\n",
    "resolution = xds.rio.resolution()\n",
    "tangents = np.tan(np.pi/2 - np.arcsin(np.arange(1 - 1/phis/2, 1/phis/2, -1/phis)))\n",
    "indices = np.indices(xds.rio.shape)"
   ]
  },
  {
   "cell_type": "code",
   "execution_count": 17,
   "metadata": {},
   "outputs": [],
   "source": [
    "svf = np.zeros(xds.rio.shape, dtype='int16')\n",
    "svf_x = np.zeros(xds.rio.shape, dtype='int16')\n",
    "svf_y = np.zeros(xds.rio.shape, dtype='int16')\n",
    "grid_max = np.zeros(xds.rio.shape)"
   ]
  },
  {
   "cell_type": "code",
   "execution_count": 18,
   "metadata": {},
   "outputs": [
    {
     "name": "stdout",
     "output_type": "stream",
     "text": [
      "Angulo de 0.0\n",
      "Angulo de 2.8125\n",
      "Angulo de 5.625\n",
      "Angulo de 8.4375\n",
      "Angulo de 11.25\n",
      "Angulo de 14.0625\n",
      "Angulo de 16.875\n",
      "Angulo de 19.6875\n",
      "Angulo de 22.5\n",
      "Angulo de 25.3125\n",
      "Angulo de 28.125\n",
      "Angulo de 30.937499999999996\n",
      "Angulo de 33.75\n",
      "Angulo de 36.5625\n",
      "Angulo de 39.375\n",
      "Angulo de 42.1875\n",
      "Angulo de 45.0\n",
      "Angulo de 47.8125\n",
      "Angulo de 50.625\n",
      "Angulo de 53.4375\n",
      "Angulo de 56.25\n",
      "Angulo de 59.0625\n",
      "Angulo de 61.87499999999999\n",
      "Angulo de 64.6875\n",
      "Angulo de 67.5\n",
      "Angulo de 70.3125\n",
      "Angulo de 73.125\n",
      "Angulo de 75.9375\n",
      "Angulo de 78.75\n",
      "Angulo de 81.5625\n",
      "Angulo de 84.375\n",
      "Angulo de 87.1875\n"
     ]
    }
   ],
   "source": [
    "for i in np.linspace(0, np.pi/2, thetas, endpoint=False):\n",
    "# for i in [np.pi*3/2]:\n",
    "    # Itera sobre cada phi\n",
    "    print(f'Angulo de {np.rad2deg(i)}')\n",
    "    for t in tangents:\n",
    "        factor_x = t * np.cos(i)\n",
    "        factor_y = t * np.sin(i)\n",
    "        # print(factor_x, factor_y)\n",
    "        grid_x_axis_1 = xds.values[0] * factor_x + resolution[0] * indices[1] * np.cos(i) \n",
    "        grid_x_axis_1_cum = np.maximum.accumulate(np.abs(grid_x_axis_1), axis=1)\n",
    "        grid_y_axis_0 = xds.values[0] * factor_y + resolution[0] * indices[0] * np.sin(i)\n",
    "        grid_y_axis_0_cum = np.maximum.accumulate(np.abs(grid_y_axis_0), axis=0)\n",
    "\n",
    "        # grid_max_cum = np.maximum(grid_x_axis_1_cum, grid_y_axis_0_cum)\n",
    "\n",
    "        # x_axis_1_is_visible = np.less_equal(grid_max_cum, np.abs(grid_x_axis_1))\n",
    "        # y_axis_0_is_visible = np.less_equal(grid_max_cum, np.abs(grid_y_axis_0))\n",
    "\n",
    "        x_axis_1_is_visible = np.less_equal(grid_x_axis_1_cum, np.abs(grid_x_axis_1))\n",
    "        y_axis_0_is_visible = np.less_equal(grid_y_axis_0_cum, np.abs(grid_y_axis_0))\n",
    "\n",
    "        # if np.cos(i) >= 0:\n",
    "        #     x_axis_1_is_visible = np.less_equal(grid_x_axis_1_cum, grid_x_axis_1)\n",
    "        # else:\n",
    "        #     x_axis_1_is_visible = np.less_equal(grid_x_axis_1, indices[1])\n",
    "\n",
    "        # if np.sin(i) >= 0:\n",
    "        #     y_axis_0_is_visible = np.less_equal(grid_y_axis_0_cum, grid_y_axis_0)\n",
    "        # else:\n",
    "        #     y_axis_0_is_visible = np.less_equal(grid_y_axis_0_cum, grid_y_axis_0)\n",
    "\n",
    "\n",
    "        svf += np.logical_or(x_axis_1_is_visible, y_axis_0_is_visible)\n",
    "        svf_x += x_axis_1_is_visible\n",
    "        svf_y += y_axis_0_is_visible\n",
    "        # grid_max += grid_max_cum\n",
    "        # break\n"
   ]
  },
  {
   "cell_type": "code",
   "execution_count": 19,
   "metadata": {},
   "outputs": [],
   "source": [
    "xds.values = svf.reshape(1, 1000, 1000)\n",
    "xds.rio.to_raster('tmp/result_raytracing.tif')\n",
    "xds.values = svf_x.reshape(1, 1000, 1000)\n",
    "xds.rio.to_raster('tmp/result_raytracing_x.tif')\n",
    "xds.values = svf_y.reshape(1, 1000, 1000)\n",
    "xds.rio.to_raster('tmp/result_raytracing_y.tif')\n",
    "# xds.values = grid_max.reshape(1, 1000, 1000)\n",
    "# xds.rio.to_raster('tmp/result_raytracing_grid_max.tif')\n"
   ]
  },
  {
   "cell_type": "code",
   "execution_count": null,
   "metadata": {},
   "outputs": [],
   "source": []
  },
  {
   "cell_type": "code",
   "execution_count": 33,
   "metadata": {},
   "outputs": [
    {
     "data": {
      "text/plain": [
       "array([309371.68304443, 309371.68304443])"
      ]
     },
     "execution_count": 33,
     "metadata": {},
     "output_type": "execute_result"
    }
   ],
   "source": [
    "xds.values[0][[0,0],[0,0]]"
   ]
  },
  {
   "cell_type": "code",
   "execution_count": 20,
   "metadata": {},
   "outputs": [],
   "source": [
    "ccc = np.array([1,50,25,30])"
   ]
  },
  {
   "cell_type": "code",
   "execution_count": 21,
   "metadata": {},
   "outputs": [
    {
     "data": {
      "text/plain": [
       "array([[ 0, -1, -1,  2]])"
      ]
     },
     "execution_count": 21,
     "metadata": {},
     "output_type": "execute_result"
    }
   ],
   "source": [
    "np.indices(ccc.shape) - np.argsort(ccc)"
   ]
  },
  {
   "cell_type": "code",
   "execution_count": 22,
   "metadata": {},
   "outputs": [
    {
     "data": {
      "text/plain": [
       "array([[0, 1, 2, 3]])"
      ]
     },
     "execution_count": 22,
     "metadata": {},
     "output_type": "execute_result"
    }
   ],
   "source": [
    "np.indices(ccc.shape)"
   ]
  },
  {
   "cell_type": "code",
   "execution_count": 35,
   "metadata": {},
   "outputs": [],
   "source": [
    "b = np.random.randint(0, 100, (10,10))"
   ]
  },
  {
   "cell_type": "code",
   "execution_count": 37,
   "metadata": {},
   "outputs": [
    {
     "data": {
      "text/plain": [
       "array([[19,  6, 16, 11, 82, 84, 54, 55, 80, 43],\n",
       "       [26, 46, 50, 32, 85, 37, 95, 16, 74, 59],\n",
       "       [56, 80, 57, 55, 93, 31, 94, 94, 50, 47],\n",
       "       [30, 42, 35, 76, 16, 91, 12, 52, 12,  7],\n",
       "       [20, 43, 98, 88, 97, 32, 43, 58, 60, 91],\n",
       "       [10, 50, 33,  4,  2, 29, 30, 34, 70, 17],\n",
       "       [19, 73, 42, 79, 95, 71, 22, 30, 29, 78],\n",
       "       [86, 66, 20, 62, 84, 81, 30, 29, 52,  5],\n",
       "       [23, 41, 17, 36, 46, 93, 24, 34,  7,  3],\n",
       "       [69, 60, 81, 70, 48, 46, 82, 82, 82,  3]])"
      ]
     },
     "execution_count": 37,
     "metadata": {},
     "output_type": "execute_result"
    }
   ],
   "source": [
    "b"
   ]
  },
  {
   "cell_type": "code",
   "execution_count": 43,
   "metadata": {},
   "outputs": [
    {
     "ename": "TypeError",
     "evalue": "'list' object cannot be interpreted as an integer",
     "output_type": "error",
     "traceback": [
      "\u001b[0;31m---------------------------------------------------------------------------\u001b[0m",
      "\u001b[0;31mTypeError\u001b[0m                                 Traceback (most recent call last)",
      "\u001b[1;32m/home/fernando/dev/svfpy/rioxarray-sandbox.ipynb Cell 27\u001b[0m in \u001b[0;36m<cell line: 1>\u001b[0;34m()\u001b[0m\n\u001b[0;32m----> <a href='vscode-notebook-cell:/home/fernando/dev/svfpy/rioxarray-sandbox.ipynb#ch0000072?line=0'>1</a>\u001b[0m np\u001b[39m.\u001b[39;49mdiagonal(b, [\u001b[39m0\u001b[39;49m,\u001b[39m1\u001b[39;49m,\u001b[39m2\u001b[39;49m])\n",
      "File \u001b[0;32m<__array_function__ internals>:180\u001b[0m, in \u001b[0;36mdiagonal\u001b[0;34m(*args, **kwargs)\u001b[0m\n",
      "File \u001b[0;32m~/dev/svfpy/venv/lib/python3.10/site-packages/numpy/core/fromnumeric.py:1679\u001b[0m, in \u001b[0;36mdiagonal\u001b[0;34m(a, offset, axis1, axis2)\u001b[0m\n\u001b[1;32m   1677\u001b[0m     \u001b[39mreturn\u001b[39;00m asarray(a)\u001b[39m.\u001b[39mdiagonal(offset\u001b[39m=\u001b[39moffset, axis1\u001b[39m=\u001b[39maxis1, axis2\u001b[39m=\u001b[39maxis2)\n\u001b[1;32m   1678\u001b[0m \u001b[39melse\u001b[39;00m:\n\u001b[0;32m-> 1679\u001b[0m     \u001b[39mreturn\u001b[39;00m asanyarray(a)\u001b[39m.\u001b[39;49mdiagonal(offset\u001b[39m=\u001b[39;49moffset, axis1\u001b[39m=\u001b[39;49maxis1, axis2\u001b[39m=\u001b[39;49maxis2)\n",
      "\u001b[0;31mTypeError\u001b[0m: 'list' object cannot be interpreted as an integer"
     ]
    }
   ],
   "source": [
    "np.diagonal(b, [0,1,2])"
   ]
  },
  {
   "cell_type": "code",
   "execution_count": null,
   "metadata": {},
   "outputs": [],
   "source": []
  }
 ],
 "metadata": {
  "kernelspec": {
   "display_name": "Python 3.9.7 ('venv': venv)",
   "language": "python",
   "name": "python3"
  },
  "language_info": {
   "codemirror_mode": {
    "name": "ipython",
    "version": 3
   },
   "file_extension": ".py",
   "mimetype": "text/x-python",
   "name": "python",
   "nbconvert_exporter": "python",
   "pygments_lexer": "ipython3",
   "version": "3.10.4"
  },
  "orig_nbformat": 4,
  "vscode": {
   "interpreter": {
    "hash": "d65e2640be51c87deae8fa53a4f278cb6174fc45683c0d3af2b5a455a7e94a62"
   }
  }
 },
 "nbformat": 4,
 "nbformat_minor": 2
}
