{
 "cells": [
  {
   "cell_type": "code",
   "execution_count": 1,
   "metadata": {},
   "outputs": [],
   "source": [
    "from svfpy import svfpy\n",
    "import numpy as np"
   ]
  },
  {
   "cell_type": "code",
   "execution_count": 2,
   "metadata": {},
   "outputs": [],
   "source": [
    "mds = '/media/fernando/DATA/nyc_lidar/results/DSM/all-DSM-NYC.tiff'"
   ]
  },
  {
   "cell_type": "code",
   "execution_count": 3,
   "metadata": {},
   "outputs": [],
   "source": [
    "svf = svfpy.SVF(mds, '/media/fernando/DATA/svf-nyc/', kernel_size_side=2500, tmp_folder='/media/fernando/DATA/svf-nyc/', max_vertical_difference=600)"
   ]
  },
  {
   "cell_type": "code",
   "execution_count": 4,
   "metadata": {},
   "outputs": [
    {
     "data": {
      "text/plain": [
       "array([ 1.,  1.,  2.,  2.,  4.,  6., 10., 31.])"
      ]
     },
     "execution_count": 4,
     "metadata": {},
     "output_type": "execute_result"
    }
   ],
   "source": [
    "svf.downscales()"
   ]
  },
  {
   "cell_type": "code",
   "execution_count": 5,
   "metadata": {},
   "outputs": [
    {
     "data": {
      "text/plain": [
       "array([ 0.5,  1. ,  2. ,  3. ,  5. , 15.5])"
      ]
     },
     "execution_count": 5,
     "metadata": {},
     "output_type": "execute_result"
    }
   ],
   "source": [
    "svf.resolutions"
   ]
  },
  {
   "cell_type": "code",
   "execution_count": 6,
   "metadata": {},
   "outputs": [
    {
     "data": {
      "text/plain": [
       "array([1056, 1558, 1283, 1583, 1263, 1252, 1277, 1600], dtype=int16)"
      ]
     },
     "execution_count": 6,
     "metadata": {},
     "output_type": "execute_result"
    }
   ],
   "source": [
    "svf.pad_max()"
   ]
  },
  {
   "cell_type": "code",
   "execution_count": 7,
   "metadata": {},
   "outputs": [
    {
     "name": "stdout",
     "output_type": "stream",
     "text": [
      "Preparing Downscale, resolution of 0.5\n",
      "Preparing Downscale, resolution of 1.0\n",
      "Usage: gdal_translate [--help-general] [--long-usage]\n",
      "       [-ot {Byte/Int16/UInt16/UInt32/Int32/Float32/Float64/\n",
      "             CInt16/CInt32/CFloat32/CFloat64}] [-strict]\n",
      "       [-if format]* [-of format]\n",
      "       [-b band] [-mask band] [-expand {gray|rgb|rgba}]\n",
      "       [-outsize xsize[%]|0 ysize[%]|0] [-tr xres yres]\n",
      "       [-r {nearest,bilinear,cubic,cubicspline,lanczos,average,mode}]\n",
      "       [-unscale] [-scale[_bn] [src_min src_max [dst_min dst_max]]]* [-exponent[_bn] exp_val]*\n",
      "       [-srcwin xoff yoff xsize ysize] [-epo] [-eco]\n",
      "       [-projwin ulx uly lrx lry] [-projwin_srs srs_def]\n",
      "       [-a_srs srs_def] [-a_coord_epoch epoch]\n",
      "       [-a_ullr ulx uly lrx lry] [-a_nodata value]\n",
      "       [-a_scale value] [-a_offset value]\n",
      "       [-nogcp] [-gcp pixel line easting northing [elevation]]*\n",
      "       |-colorinterp{_bn} {red|green|blue|alpha|gray|undefined}]\n",
      "       |-colorinterp {red|green|blue|alpha|gray|undefined},...]\n",
      "       [-mo \"META-TAG=VALUE\"]* [-q] [-sds]\n",
      "       [-co \"NAME=VALUE\"]* [-stats] [-norat] [-noxmp]\n",
      "       [-oo NAME=VALUE]*\n",
      "       src_dataset dst_dataset\n"
     ]
    },
    {
     "name": "stderr",
     "output_type": "stream",
     "text": [
      "ERROR 6: Unknown option name '-overwrite'\n"
     ]
    },
    {
     "ename": "RasterioIOError",
     "evalue": "/media/fernando/DATA/svf-nyc/all-DSM-NYC_100cm_.tif: No such file or directory",
     "output_type": "error",
     "traceback": [
      "\u001b[0;31m---------------------------------------------------------------------------\u001b[0m",
      "\u001b[0;31mKeyError\u001b[0m                                  Traceback (most recent call last)",
      "File \u001b[0;32m~/dev/svfpy/venv/lib/python3.10/site-packages/xarray/backends/file_manager.py:201\u001b[0m, in \u001b[0;36mCachingFileManager._acquire_with_cache_info\u001b[0;34m(self, needs_lock)\u001b[0m\n\u001b[1;32m    200\u001b[0m \u001b[39mtry\u001b[39;00m:\n\u001b[0;32m--> 201\u001b[0m     file \u001b[39m=\u001b[39m \u001b[39mself\u001b[39;49m\u001b[39m.\u001b[39;49m_cache[\u001b[39mself\u001b[39;49m\u001b[39m.\u001b[39;49m_key]\n\u001b[1;32m    202\u001b[0m \u001b[39mexcept\u001b[39;00m \u001b[39mKeyError\u001b[39;00m:\n",
      "File \u001b[0;32m~/dev/svfpy/venv/lib/python3.10/site-packages/xarray/backends/lru_cache.py:55\u001b[0m, in \u001b[0;36mLRUCache.__getitem__\u001b[0;34m(self, key)\u001b[0m\n\u001b[1;32m     54\u001b[0m \u001b[39mwith\u001b[39;00m \u001b[39mself\u001b[39m\u001b[39m.\u001b[39m_lock:\n\u001b[0;32m---> 55\u001b[0m     value \u001b[39m=\u001b[39m \u001b[39mself\u001b[39;49m\u001b[39m.\u001b[39;49m_cache[key]\n\u001b[1;32m     56\u001b[0m     \u001b[39mself\u001b[39m\u001b[39m.\u001b[39m_cache\u001b[39m.\u001b[39mmove_to_end(key)\n",
      "\u001b[0;31mKeyError\u001b[0m: [<function open at 0x7ff3d006eb00>, ('/media/fernando/DATA/svf-nyc/all-DSM-NYC_100cm_.tif',), 'r', (('sharing', False),)]",
      "\nDuring handling of the above exception, another exception occurred:\n",
      "\u001b[0;31mCPLE_OpenFailedError\u001b[0m                      Traceback (most recent call last)",
      "File \u001b[0;32mrasterio/_base.pyx:302\u001b[0m, in \u001b[0;36mrasterio._base.DatasetBase.__init__\u001b[0;34m()\u001b[0m\n",
      "File \u001b[0;32mrasterio/_base.pyx:213\u001b[0m, in \u001b[0;36mrasterio._base.open_dataset\u001b[0;34m()\u001b[0m\n",
      "File \u001b[0;32mrasterio/_err.pyx:217\u001b[0m, in \u001b[0;36mrasterio._err.exc_wrap_pointer\u001b[0;34m()\u001b[0m\n",
      "\u001b[0;31mCPLE_OpenFailedError\u001b[0m: /media/fernando/DATA/svf-nyc/all-DSM-NYC_100cm_.tif: No such file or directory",
      "\nDuring handling of the above exception, another exception occurred:\n",
      "\u001b[0;31mRasterioIOError\u001b[0m                           Traceback (most recent call last)",
      "\u001b[1;32m/home/fernando/dev/svfpy/processing-nyc.ipynb Cell 7\u001b[0m in \u001b[0;36m<cell line: 1>\u001b[0;34m()\u001b[0m\n\u001b[0;32m----> <a href='vscode-notebook-cell:/home/fernando/dev/svfpy/processing-nyc.ipynb#W6sZmlsZQ%3D%3D?line=0'>1</a>\u001b[0m svf\u001b[39m.\u001b[39;49mprepare_downscales()\n",
      "File \u001b[0;32m~/dev/svfpy/svfpy/svfpy.py:68\u001b[0m, in \u001b[0;36mSVF.prepare_downscales\u001b[0;34m(self, force)\u001b[0m\n\u001b[1;32m     66\u001b[0m \u001b[39mfor\u001b[39;00m i \u001b[39min\u001b[39;00m np\u001b[39m.\u001b[39munique(\u001b[39mself\u001b[39m\u001b[39m.\u001b[39mdownscales()):\n\u001b[1;32m     67\u001b[0m     \u001b[39mprint\u001b[39m(\u001b[39mf\u001b[39m\u001b[39m'\u001b[39m\u001b[39mPreparing Downscale, resolution of \u001b[39m\u001b[39m{\u001b[39;00mi \u001b[39m*\u001b[39m \u001b[39mself\u001b[39m\u001b[39m.\u001b[39mresolution\u001b[39m}\u001b[39;00m\u001b[39m'\u001b[39m)\n\u001b[0;32m---> 68\u001b[0m     d_scales\u001b[39m.\u001b[39mappend(\u001b[39mself\u001b[39;49m\u001b[39m.\u001b[39;49mget_downscale(i \u001b[39m*\u001b[39;49m \u001b[39mself\u001b[39;49m\u001b[39m.\u001b[39;49mresolution, force\u001b[39m=\u001b[39;49mforce))\n\u001b[1;32m     69\u001b[0m \u001b[39mreturn\u001b[39;00m d_scales\n",
      "File \u001b[0;32m~/dev/svfpy/svfpy/svfpy.py:61\u001b[0m, in \u001b[0;36mSVF.get_downscale\u001b[0;34m(self, resolution, force)\u001b[0m\n\u001b[1;32m     59\u001b[0m     \u001b[39mif\u001b[39;00m \u001b[39mnot\u001b[39;00m os\u001b[39m.\u001b[39mpath\u001b[39m.\u001b[39mexists(mds_downscale) \u001b[39mor\u001b[39;00m force:\n\u001b[1;32m     60\u001b[0m         os\u001b[39m.\u001b[39msystem(\u001b[39mf\u001b[39m\u001b[39m'\u001b[39m\u001b[39mgdal_translate -tr \u001b[39m\u001b[39m{\u001b[39;00mresolution\u001b[39m}\u001b[39;00m\u001b[39m \u001b[39m\u001b[39m{\u001b[39;00mresolution\u001b[39m}\u001b[39;00m\u001b[39m -r mode -of GTiff -overwrite \u001b[39m\u001b[39m{\u001b[39;00m\u001b[39mself\u001b[39m\u001b[39m.\u001b[39mmds_file\u001b[39m}\u001b[39;00m\u001b[39m \u001b[39m\u001b[39m{\u001b[39;00mmds_downscale\u001b[39m}\u001b[39;00m\u001b[39m'\u001b[39m)\n\u001b[0;32m---> 61\u001b[0m     mds \u001b[39m=\u001b[39m rioxarray\u001b[39m.\u001b[39;49mopen_rasterio(mds_downscale)\n\u001b[1;32m     62\u001b[0m \u001b[39mreturn\u001b[39;00m mds\n",
      "File \u001b[0;32m~/dev/svfpy/venv/lib/python3.10/site-packages/rioxarray/_io.py:843\u001b[0m, in \u001b[0;36mopen_rasterio\u001b[0;34m(filename, parse_coordinates, chunks, cache, lock, masked, mask_and_scale, variable, group, default_name, decode_times, decode_timedelta, **open_kwargs)\u001b[0m\n\u001b[1;32m    841\u001b[0m     \u001b[39melse\u001b[39;00m:\n\u001b[1;32m    842\u001b[0m         manager \u001b[39m=\u001b[39m URIManager(rasterio\u001b[39m.\u001b[39mopen, filename, mode\u001b[39m=\u001b[39m\u001b[39m\"\u001b[39m\u001b[39mr\u001b[39m\u001b[39m\"\u001b[39m, kwargs\u001b[39m=\u001b[39mopen_kwargs)\n\u001b[0;32m--> 843\u001b[0m     riods \u001b[39m=\u001b[39m manager\u001b[39m.\u001b[39;49macquire()\n\u001b[1;32m    844\u001b[0m     captured_warnings \u001b[39m=\u001b[39m rio_warnings\u001b[39m.\u001b[39mcopy()\n\u001b[1;32m    846\u001b[0m \u001b[39m# raise the NotGeoreferencedWarning if applicable\u001b[39;00m\n",
      "File \u001b[0;32m~/dev/svfpy/venv/lib/python3.10/site-packages/xarray/backends/file_manager.py:183\u001b[0m, in \u001b[0;36mCachingFileManager.acquire\u001b[0;34m(self, needs_lock)\u001b[0m\n\u001b[1;32m    168\u001b[0m \u001b[39mdef\u001b[39;00m \u001b[39macquire\u001b[39m(\u001b[39mself\u001b[39m, needs_lock\u001b[39m=\u001b[39m\u001b[39mTrue\u001b[39;00m):\n\u001b[1;32m    169\u001b[0m     \u001b[39m\"\"\"Acquire a file object from the manager.\u001b[39;00m\n\u001b[1;32m    170\u001b[0m \n\u001b[1;32m    171\u001b[0m \u001b[39m    A new file is only opened if it has expired from the\u001b[39;00m\n\u001b[0;32m   (...)\u001b[0m\n\u001b[1;32m    181\u001b[0m \u001b[39m        An open file object, as returned by ``opener(*args, **kwargs)``.\u001b[39;00m\n\u001b[1;32m    182\u001b[0m \u001b[39m    \"\"\"\u001b[39;00m\n\u001b[0;32m--> 183\u001b[0m     file, _ \u001b[39m=\u001b[39m \u001b[39mself\u001b[39;49m\u001b[39m.\u001b[39;49m_acquire_with_cache_info(needs_lock)\n\u001b[1;32m    184\u001b[0m     \u001b[39mreturn\u001b[39;00m file\n",
      "File \u001b[0;32m~/dev/svfpy/venv/lib/python3.10/site-packages/xarray/backends/file_manager.py:207\u001b[0m, in \u001b[0;36mCachingFileManager._acquire_with_cache_info\u001b[0;34m(self, needs_lock)\u001b[0m\n\u001b[1;32m    205\u001b[0m     kwargs \u001b[39m=\u001b[39m kwargs\u001b[39m.\u001b[39mcopy()\n\u001b[1;32m    206\u001b[0m     kwargs[\u001b[39m\"\u001b[39m\u001b[39mmode\u001b[39m\u001b[39m\"\u001b[39m] \u001b[39m=\u001b[39m \u001b[39mself\u001b[39m\u001b[39m.\u001b[39m_mode\n\u001b[0;32m--> 207\u001b[0m file \u001b[39m=\u001b[39m \u001b[39mself\u001b[39;49m\u001b[39m.\u001b[39;49m_opener(\u001b[39m*\u001b[39;49m\u001b[39mself\u001b[39;49m\u001b[39m.\u001b[39;49m_args, \u001b[39m*\u001b[39;49m\u001b[39m*\u001b[39;49mkwargs)\n\u001b[1;32m    208\u001b[0m \u001b[39mif\u001b[39;00m \u001b[39mself\u001b[39m\u001b[39m.\u001b[39m_mode \u001b[39m==\u001b[39m \u001b[39m\"\u001b[39m\u001b[39mw\u001b[39m\u001b[39m\"\u001b[39m:\n\u001b[1;32m    209\u001b[0m     \u001b[39m# ensure file doesn't get overridden when opened again\u001b[39;00m\n\u001b[1;32m    210\u001b[0m     \u001b[39mself\u001b[39m\u001b[39m.\u001b[39m_mode \u001b[39m=\u001b[39m \u001b[39m\"\u001b[39m\u001b[39ma\u001b[39m\u001b[39m\"\u001b[39m\n",
      "File \u001b[0;32m~/dev/svfpy/venv/lib/python3.10/site-packages/rasterio/env.py:442\u001b[0m, in \u001b[0;36mensure_env_with_credentials.<locals>.wrapper\u001b[0;34m(*args, **kwds)\u001b[0m\n\u001b[1;32m    439\u001b[0m     session \u001b[39m=\u001b[39m DummySession()\n\u001b[1;32m    441\u001b[0m \u001b[39mwith\u001b[39;00m env_ctor(session\u001b[39m=\u001b[39msession):\n\u001b[0;32m--> 442\u001b[0m     \u001b[39mreturn\u001b[39;00m f(\u001b[39m*\u001b[39;49margs, \u001b[39m*\u001b[39;49m\u001b[39m*\u001b[39;49mkwds)\n",
      "File \u001b[0;32m~/dev/svfpy/venv/lib/python3.10/site-packages/rasterio/__init__.py:277\u001b[0m, in \u001b[0;36mopen\u001b[0;34m(fp, mode, driver, width, height, count, crs, transform, dtype, nodata, sharing, **kwargs)\u001b[0m\n\u001b[1;32m    274\u001b[0m path \u001b[39m=\u001b[39m _parse_path(raw_dataset_path)\n\u001b[1;32m    276\u001b[0m \u001b[39mif\u001b[39;00m mode \u001b[39m==\u001b[39m \u001b[39m\"\u001b[39m\u001b[39mr\u001b[39m\u001b[39m\"\u001b[39m:\n\u001b[0;32m--> 277\u001b[0m     dataset \u001b[39m=\u001b[39m DatasetReader(path, driver\u001b[39m=\u001b[39;49mdriver, sharing\u001b[39m=\u001b[39;49msharing, \u001b[39m*\u001b[39;49m\u001b[39m*\u001b[39;49mkwargs)\n\u001b[1;32m    278\u001b[0m \u001b[39melif\u001b[39;00m mode \u001b[39m==\u001b[39m \u001b[39m\"\u001b[39m\u001b[39mr+\u001b[39m\u001b[39m\"\u001b[39m:\n\u001b[1;32m    279\u001b[0m     dataset \u001b[39m=\u001b[39m get_writer_for_path(path, driver\u001b[39m=\u001b[39mdriver)(\n\u001b[1;32m    280\u001b[0m         path, mode, driver\u001b[39m=\u001b[39mdriver, sharing\u001b[39m=\u001b[39msharing, \u001b[39m*\u001b[39m\u001b[39m*\u001b[39mkwargs\n\u001b[1;32m    281\u001b[0m     )\n",
      "File \u001b[0;32mrasterio/_base.pyx:304\u001b[0m, in \u001b[0;36mrasterio._base.DatasetBase.__init__\u001b[0;34m()\u001b[0m\n",
      "\u001b[0;31mRasterioIOError\u001b[0m: /media/fernando/DATA/svf-nyc/all-DSM-NYC_100cm_.tif: No such file or directory"
     ]
    }
   ],
   "source": [
    "svf.prepare_downscales()"
   ]
  },
  {
   "cell_type": "code",
   "execution_count": 8,
   "metadata": {},
   "outputs": [
    {
     "name": "stdout",
     "output_type": "stream",
     "text": [
      "Agregando 0.5\n",
      "0...10...20...30...40...50...60...70...80...90...100 - done.\n",
      "Input file size is 95000, 147500\n",
      "0...10...20...30...40...50...60...70...80...90...100 - done.\n",
      "Agregando 1.0\n",
      "0...10...20...30...40...50...60...70...80...90...100 - done.\n",
      "Input file size is 47500, 75000\n",
      "0...10...20...30...40...50...60...70...80...90...100 - done.\n",
      "Agregando 2.0\n",
      "0...10...20...30...40...50...60...70...80...90...100 - done.\n",
      "Input file size is 25000, 37500\n",
      "0...10...20...30...40...50...60...70...80...90...100 - done.\n",
      "Agregando 3.0\n",
      "0...10...20...30...40...50...60...70...80...90...100 - done.\n",
      "Input file size is 17500, 25000\n",
      "0...10...20...30...40...50...60...70...80...90...100 - done.\n",
      "Agregando 5.0\n",
      "0...10...20...30...40...50...60...70...80...90...100 - done.\n",
      "Input file size is 10000, 15000\n",
      "0...10...20...30...40...50...60...70...80...90...100 - done.\n",
      "Agregando 15.5\n",
      "0...10...20...30...40...50...60...70...80...90...100 - done.\n",
      "Input file size is 5000, 5000\n",
      "0...10...20...30...40...50...60...70...80...90...100 - done.\n"
     ]
    }
   ],
   "source": [
    "svf.svf()"
   ]
  },
  {
   "cell_type": "code",
   "execution_count": null,
   "metadata": {},
   "outputs": [],
   "source": []
  }
 ],
 "metadata": {
  "kernelspec": {
   "display_name": "Python 3.10.4 ('venv': venv)",
   "language": "python",
   "name": "python3"
  },
  "language_info": {
   "codemirror_mode": {
    "name": "ipython",
    "version": 3
   },
   "file_extension": ".py",
   "mimetype": "text/x-python",
   "name": "python",
   "nbconvert_exporter": "python",
   "pygments_lexer": "ipython3",
   "version": "3.10.6"
  },
  "orig_nbformat": 4,
  "vscode": {
   "interpreter": {
    "hash": "d65e2640be51c87deae8fa53a4f278cb6174fc45683c0d3af2b5a455a7e94a62"
   }
  }
 },
 "nbformat": 4,
 "nbformat_minor": 2
}
