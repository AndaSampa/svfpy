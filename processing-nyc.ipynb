{
 "cells": [
  {
   "cell_type": "code",
   "execution_count": 1,
   "metadata": {},
   "outputs": [],
   "source": [
    "from svfpy import svfpy\n",
    "import numpy as np"
   ]
  },
  {
   "cell_type": "code",
   "execution_count": 2,
   "metadata": {},
   "outputs": [],
   "source": [
    "mds = '/media/fernando/DATA/nyc_lidar/results/DSM/all-DSM-NYC.tiff'"
   ]
  },
  {
   "cell_type": "code",
   "execution_count": 3,
   "metadata": {},
   "outputs": [],
   "source": [
    "svf = svfpy.SVF(\n",
    "    mds, '/media/fernando/DATA/svf-nyc/', \n",
    "    kernel_size_side=2500, \n",
    "    tmp_folder='/media/fernando/DATA/svf-nyc/', \n",
    "    max_vertical_difference=600, \n",
    "    boundary='test/data/nyc-boundary.gpkg'\n",
    ")"
   ]
  },
  {
   "cell_type": "code",
   "execution_count": 4,
   "metadata": {},
   "outputs": [
    {
     "data": {
      "text/plain": [
       "array([ 1.,  1.,  2.,  2.,  4.,  6., 10., 31.])"
      ]
     },
     "execution_count": 4,
     "metadata": {},
     "output_type": "execute_result"
    }
   ],
   "source": [
    "svf.downscales()"
   ]
  },
  {
   "cell_type": "code",
   "execution_count": 5,
   "metadata": {},
   "outputs": [
    {
     "data": {
      "text/plain": [
       "array([ 0.5,  1. ,  2. ,  3. ,  5. , 15.5])"
      ]
     },
     "execution_count": 5,
     "metadata": {},
     "output_type": "execute_result"
    }
   ],
   "source": [
    "svf.resolutions"
   ]
  },
  {
   "cell_type": "code",
   "execution_count": 6,
   "metadata": {},
   "outputs": [
    {
     "data": {
      "text/plain": [
       "array([ 1. ,  2. ,  3. ,  5. , 15.5])"
      ]
     },
     "execution_count": 6,
     "metadata": {},
     "output_type": "execute_result"
    }
   ],
   "source": [
    "svf.resolutions[1:]"
   ]
  },
  {
   "cell_type": "code",
   "execution_count": 7,
   "metadata": {},
   "outputs": [
    {
     "data": {
      "text/plain": [
       "array([1056, 1558, 1283, 1583, 1263, 1252, 1277, 1600], dtype=int16)"
      ]
     },
     "execution_count": 7,
     "metadata": {},
     "output_type": "execute_result"
    }
   ],
   "source": [
    "svf.pad_max()"
   ]
  },
  {
   "cell_type": "code",
   "execution_count": 8,
   "metadata": {},
   "outputs": [
    {
     "name": "stdout",
     "output_type": "stream",
     "text": [
      "Preparing Downscale, resolution of 0.5\n",
      "Preparing Downscale, resolution of 1.0\n",
      "Preparing Downscale, resolution of 2.0\n",
      "Preparing Downscale, resolution of 3.0\n",
      "Preparing Downscale, resolution of 5.0\n",
      "Preparing Downscale, resolution of 15.5\n"
     ]
    },
    {
     "data": {
      "text/plain": [
       "[<xarray.DataArray (band: 1, y: 315000, x: 315000)>\n",
       " [99225000000 values with dtype=float32]\n",
       " Coordinates:\n",
       "   * band         (band) int64 1\n",
       "   * x            (x) float64 9.125e+05 9.125e+05 9.125e+05 ... 1.07e+06 1.07e+06\n",
       "   * y            (y) float64 2.75e+05 2.75e+05 2.75e+05 ... 1.175e+05 1.175e+05\n",
       "     spatial_ref  int64 0\n",
       " Attributes:\n",
       "     _FillValue:    -9999.0\n",
       "     scale_factor:  1.0\n",
       "     add_offset:    0.0,\n",
       " <xarray.DataArray (band: 1, y: 157500, x: 157500)>\n",
       " [24806250000 values with dtype=float32]\n",
       " Coordinates:\n",
       "   * band         (band) int64 1\n",
       "   * x            (x) float64 9.125e+05 9.125e+05 9.125e+05 ... 1.07e+06 1.07e+06\n",
       "   * y            (y) float64 2.75e+05 2.75e+05 2.75e+05 ... 1.175e+05 1.175e+05\n",
       "     spatial_ref  int64 0\n",
       " Attributes:\n",
       "     _FillValue:    -9999.0\n",
       "     scale_factor:  1.0\n",
       "     add_offset:    0.0,\n",
       " <xarray.DataArray (band: 1, y: 78750, x: 78750)>\n",
       " [6201562500 values with dtype=float32]\n",
       " Coordinates:\n",
       "   * band         (band) int64 1\n",
       "   * x            (x) float64 9.125e+05 9.125e+05 9.125e+05 ... 1.07e+06 1.07e+06\n",
       "   * y            (y) float64 2.75e+05 2.75e+05 2.75e+05 ... 1.175e+05 1.175e+05\n",
       "     spatial_ref  int64 0\n",
       " Attributes:\n",
       "     _FillValue:    -9999.0\n",
       "     scale_factor:  1.0\n",
       "     add_offset:    0.0,\n",
       " <xarray.DataArray (band: 1, y: 52500, x: 52500)>\n",
       " [2756250000 values with dtype=float32]\n",
       " Coordinates:\n",
       "   * band         (band) int64 1\n",
       "   * x            (x) float64 9.125e+05 9.125e+05 9.125e+05 ... 1.07e+06 1.07e+06\n",
       "   * y            (y) float64 2.75e+05 2.75e+05 2.75e+05 ... 1.175e+05 1.175e+05\n",
       "     spatial_ref  int64 0\n",
       " Attributes:\n",
       "     _FillValue:    -9999.0\n",
       "     scale_factor:  1.0\n",
       "     add_offset:    0.0,\n",
       " <xarray.DataArray (band: 1, y: 31500, x: 31500)>\n",
       " [992250000 values with dtype=float32]\n",
       " Coordinates:\n",
       "   * band         (band) int64 1\n",
       "   * x            (x) float64 9.125e+05 9.125e+05 9.125e+05 ... 1.07e+06 1.07e+06\n",
       "   * y            (y) float64 2.75e+05 2.75e+05 2.75e+05 ... 1.175e+05 1.175e+05\n",
       "     spatial_ref  int64 0\n",
       " Attributes:\n",
       "     _FillValue:    -9999.0\n",
       "     scale_factor:  1.0\n",
       "     add_offset:    0.0,\n",
       " <xarray.DataArray (band: 1, y: 10161, x: 10161)>\n",
       " [103245921 values with dtype=float32]\n",
       " Coordinates:\n",
       "   * band         (band) int64 1\n",
       "   * x            (x) float64 9.125e+05 9.125e+05 9.125e+05 ... 1.07e+06 1.07e+06\n",
       "   * y            (y) float64 2.75e+05 2.75e+05 2.75e+05 ... 1.175e+05 1.175e+05\n",
       "     spatial_ref  int64 0\n",
       " Attributes:\n",
       "     _FillValue:    -9999.0\n",
       "     scale_factor:  1.0\n",
       "     add_offset:    0.0]"
      ]
     },
     "execution_count": 8,
     "metadata": {},
     "output_type": "execute_result"
    }
   ],
   "source": [
    "svf.prepare_downscales()"
   ]
  },
  {
   "cell_type": "code",
   "execution_count": 9,
   "metadata": {},
   "outputs": [
    {
     "name": "stdout",
     "output_type": "stream",
     "text": [
      "Agregando 0.5\n",
      "0...10...20...30...40...50...60...70...80...90...100 - done.\n"
     ]
    },
    {
     "name": "stderr",
     "output_type": "stream",
     "text": [
      "Warning 1: Computed -srcwin 0 -0 315000 315000 falls partially outside raster extent. Going on however.\n"
     ]
    },
    {
     "name": "stdout",
     "output_type": "stream",
     "text": [
      "Input file size is 312500, 312500\n",
      "0...10...20...30...40...50...60...70...80...90...100 - done.\n",
      "Agregando 1.0\n",
      "0...10...20...30...40...50...60...70...80...90...100 - done.\n",
      "Input file size is 157500, 157500\n",
      "0...10...20...30...40...50...60...70...80...90...100 - done.\n",
      "Agregando 2.0\n",
      "0...10...20...30...40...50...60...70...80...90...100 - done.\n",
      "Input file size is 80000, 80000\n",
      "0...10...20...30...40...50...60...70...80...90...100 - done.\n",
      "Agregando 3.0\n",
      "0...10...20...30...40...50...60...70...80...90...100 - done.\n",
      "Input file size is 52500, 52500\n",
      "0...10...20...30...40...50...60...70...80...90...100 - done.\n",
      "Agregando 5.0\n",
      "0...10...20...30...40...50...60...70...80...90...100 - done.\n",
      "Input file size is 32500, 32500\n",
      "0...10...20...30...40...50...60...70...80...90...100 - done.\n",
      "Agregando 15.5\n",
      "0...10...20...30...40...50...60...70...80...90...100 - done.\n",
      "Input file size is 12500, 12500\n",
      "0...10...20...30...40...50...60...70...80...90...100 - done.\n"
     ]
    }
   ],
   "source": [
    "svf.svf()"
   ]
  },
  {
   "cell_type": "code",
   "execution_count": 17,
   "metadata": {},
   "outputs": [
    {
     "data": {
      "text/plain": [
       "array([86.4166783 , 79.19307713, 71.79004314, 64.05552023, 55.77113367,\n",
       "       46.56746344, 35.6590877 , 20.36413481])"
      ]
     },
     "execution_count": 17,
     "metadata": {},
     "output_type": "execute_result"
    }
   ],
   "source": [
    "np.rad2deg(np.pi/2 - svf.phis_angles)"
   ]
  },
  {
   "cell_type": "code",
   "execution_count": 12,
   "metadata": {},
   "outputs": [
    {
     "data": {
      "text/plain": [
       "array([0.06254076, 0.18861639, 0.3178237 , 0.45281659, 0.59740642,\n",
       "       0.75804077, 0.94842784, 1.21537513])"
      ]
     },
     "execution_count": 12,
     "metadata": {},
     "output_type": "execute_result"
    }
   ],
   "source": [
    "svf.phis_angles"
   ]
  },
  {
   "cell_type": "code",
   "execution_count": 20,
   "metadata": {},
   "outputs": [
    {
     "data": {
      "text/plain": [
       "array([ 1.,  1.,  2.,  2.,  4.,  6., 10., 31.])"
      ]
     },
     "execution_count": 20,
     "metadata": {},
     "output_type": "execute_result"
    }
   ],
   "source": [
    "svf.downscales()"
   ]
  },
  {
   "cell_type": "code",
   "execution_count": null,
   "metadata": {},
   "outputs": [],
   "source": []
  }
 ],
 "metadata": {
  "kernelspec": {
   "display_name": "Python 3.10.4 ('venv': venv)",
   "language": "python",
   "name": "python3"
  },
  "language_info": {
   "codemirror_mode": {
    "name": "ipython",
    "version": 3
   },
   "file_extension": ".py",
   "mimetype": "text/x-python",
   "name": "python",
   "nbconvert_exporter": "python",
   "pygments_lexer": "ipython3",
   "version": "3.10.6"
  },
  "orig_nbformat": 4,
  "vscode": {
   "interpreter": {
    "hash": "d65e2640be51c87deae8fa53a4f278cb6174fc45683c0d3af2b5a455a7e94a62"
   }
  }
 },
 "nbformat": 4,
 "nbformat_minor": 2
}
