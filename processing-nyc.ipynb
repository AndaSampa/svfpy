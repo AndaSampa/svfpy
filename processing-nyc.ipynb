{
 "cells": [
  {
   "cell_type": "code",
   "execution_count": 1,
   "metadata": {},
   "outputs": [],
   "source": [
    "from svfpy import svfpy\n",
    "import numpy as np"
   ]
  },
  {
   "cell_type": "code",
   "execution_count": 2,
   "metadata": {},
   "outputs": [],
   "source": [
    "mds = '/media/fernando/DATA/nyc_lidar/results/DSM/all-DSM-NYC.tiff'"
   ]
  },
  {
   "cell_type": "code",
   "execution_count": 3,
   "metadata": {},
   "outputs": [],
   "source": [
    "svf = svfpy.SVF(mds, '/media/fernando/DATA/svf-nyc/', kernel_size_side=2500, tmp_folder='/media/fernando/DATA/svf-nyc/', max_vertical_difference=600, boundary='test/data/nyc-boundary.gpkg')"
   ]
  },
  {
   "cell_type": "code",
   "execution_count": 4,
   "metadata": {},
   "outputs": [
    {
     "data": {
      "text/plain": [
       "array([ 1.,  1.,  2.,  2.,  4.,  6., 10., 31.])"
      ]
     },
     "execution_count": 4,
     "metadata": {},
     "output_type": "execute_result"
    }
   ],
   "source": [
    "svf.downscales()"
   ]
  },
  {
   "cell_type": "code",
   "execution_count": 5,
   "metadata": {},
   "outputs": [
    {
     "data": {
      "text/plain": [
       "array([ 0.5,  1. ,  2. ,  3. ,  5. , 15.5])"
      ]
     },
     "execution_count": 5,
     "metadata": {},
     "output_type": "execute_result"
    }
   ],
   "source": [
    "svf.resolutions"
   ]
  },
  {
   "cell_type": "code",
   "execution_count": 6,
   "metadata": {},
   "outputs": [
    {
     "data": {
      "text/plain": [
       "array([1056, 1558, 1283, 1583, 1263, 1252, 1277, 1600], dtype=int16)"
      ]
     },
     "execution_count": 6,
     "metadata": {},
     "output_type": "execute_result"
    }
   ],
   "source": [
    "svf.pad_max()"
   ]
  },
  {
   "cell_type": "code",
   "execution_count": 7,
   "metadata": {},
   "outputs": [
    {
     "name": "stdout",
     "output_type": "stream",
     "text": [
      "Preparing Downscale, resolution of 0.5\n",
      "Preparing Downscale, resolution of 1.0\n",
      "Preparing Downscale, resolution of 2.0\n",
      "Preparing Downscale, resolution of 3.0\n",
      "Preparing Downscale, resolution of 5.0\n",
      "Preparing Downscale, resolution of 15.5\n"
     ]
    },
    {
     "data": {
      "text/plain": [
       "[<xarray.DataArray (band: 1, y: 315000, x: 315000)>\n",
       " [99225000000 values with dtype=float32]\n",
       " Coordinates:\n",
       "   * band         (band) int64 1\n",
       "   * x            (x) float64 9.125e+05 9.125e+05 9.125e+05 ... 1.07e+06 1.07e+06\n",
       "   * y            (y) float64 2.75e+05 2.75e+05 2.75e+05 ... 1.175e+05 1.175e+05\n",
       "     spatial_ref  int64 0\n",
       " Attributes:\n",
       "     _FillValue:    -9999.0\n",
       "     scale_factor:  1.0\n",
       "     add_offset:    0.0,\n",
       " <xarray.DataArray (band: 1, y: 157500, x: 157500)>\n",
       " [24806250000 values with dtype=float32]\n",
       " Coordinates:\n",
       "   * band         (band) int64 1\n",
       "   * x            (x) float64 9.125e+05 9.125e+05 9.125e+05 ... 1.07e+06 1.07e+06\n",
       "   * y            (y) float64 2.75e+05 2.75e+05 2.75e+05 ... 1.175e+05 1.175e+05\n",
       "     spatial_ref  int64 0\n",
       " Attributes:\n",
       "     _FillValue:    -9999.0\n",
       "     scale_factor:  1.0\n",
       "     add_offset:    0.0,\n",
       " <xarray.DataArray (band: 1, y: 78750, x: 78750)>\n",
       " [6201562500 values with dtype=float32]\n",
       " Coordinates:\n",
       "   * band         (band) int64 1\n",
       "   * x            (x) float64 9.125e+05 9.125e+05 9.125e+05 ... 1.07e+06 1.07e+06\n",
       "   * y            (y) float64 2.75e+05 2.75e+05 2.75e+05 ... 1.175e+05 1.175e+05\n",
       "     spatial_ref  int64 0\n",
       " Attributes:\n",
       "     _FillValue:    -9999.0\n",
       "     scale_factor:  1.0\n",
       "     add_offset:    0.0,\n",
       " <xarray.DataArray (band: 1, y: 52500, x: 52500)>\n",
       " [2756250000 values with dtype=float32]\n",
       " Coordinates:\n",
       "   * band         (band) int64 1\n",
       "   * x            (x) float64 9.125e+05 9.125e+05 9.125e+05 ... 1.07e+06 1.07e+06\n",
       "   * y            (y) float64 2.75e+05 2.75e+05 2.75e+05 ... 1.175e+05 1.175e+05\n",
       "     spatial_ref  int64 0\n",
       " Attributes:\n",
       "     _FillValue:    -9999.0\n",
       "     scale_factor:  1.0\n",
       "     add_offset:    0.0,\n",
       " <xarray.DataArray (band: 1, y: 31500, x: 31500)>\n",
       " [992250000 values with dtype=float32]\n",
       " Coordinates:\n",
       "   * band         (band) int64 1\n",
       "   * x            (x) float64 9.125e+05 9.125e+05 9.125e+05 ... 1.07e+06 1.07e+06\n",
       "   * y            (y) float64 2.75e+05 2.75e+05 2.75e+05 ... 1.175e+05 1.175e+05\n",
       "     spatial_ref  int64 0\n",
       " Attributes:\n",
       "     _FillValue:    -9999.0\n",
       "     scale_factor:  1.0\n",
       "     add_offset:    0.0,\n",
       " <xarray.DataArray (band: 1, y: 10161, x: 10161)>\n",
       " [103245921 values with dtype=float32]\n",
       " Coordinates:\n",
       "   * band         (band) int64 1\n",
       "   * x            (x) float64 9.125e+05 9.125e+05 9.125e+05 ... 1.07e+06 1.07e+06\n",
       "   * y            (y) float64 2.75e+05 2.75e+05 2.75e+05 ... 1.175e+05 1.175e+05\n",
       "     spatial_ref  int64 0\n",
       " Attributes:\n",
       "     _FillValue:    -9999.0\n",
       "     scale_factor:  1.0\n",
       "     add_offset:    0.0]"
      ]
     },
     "execution_count": 7,
     "metadata": {},
     "output_type": "execute_result"
    }
   ],
   "source": [
    "svf.prepare_downscales()"
   ]
  },
  {
   "cell_type": "code",
   "execution_count": 8,
   "metadata": {},
   "outputs": [
    {
     "name": "stdout",
     "output_type": "stream",
     "text": [
      "3 79 0.5\n",
      "3 80 0.5\n",
      "3 81 0.5\n"
     ]
    }
   ],
   "source": [
    "svf.svf()"
   ]
  },
  {
   "cell_type": "code",
   "execution_count": null,
   "metadata": {},
   "outputs": [],
   "source": []
  }
 ],
 "metadata": {
  "kernelspec": {
   "display_name": "Python 3.10.4 ('venv': venv)",
   "language": "python",
   "name": "python3"
  },
  "language_info": {
   "codemirror_mode": {
    "name": "ipython",
    "version": 3
   },
   "file_extension": ".py",
   "mimetype": "text/x-python",
   "name": "python",
   "nbconvert_exporter": "python",
   "pygments_lexer": "ipython3",
   "version": "3.10.6"
  },
  "orig_nbformat": 4,
  "vscode": {
   "interpreter": {
    "hash": "d65e2640be51c87deae8fa53a4f278cb6174fc45683c0d3af2b5a455a7e94a62"
   }
  }
 },
 "nbformat": 4,
 "nbformat_minor": 2
}
