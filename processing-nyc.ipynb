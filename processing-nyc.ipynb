{
 "cells": [
  {
   "cell_type": "code",
   "execution_count": 1,
   "metadata": {},
   "outputs": [],
   "source": [
    "from svfpy import svfpy\n",
    "import numpy as np"
   ]
  },
  {
   "cell_type": "code",
   "execution_count": 2,
   "metadata": {},
   "outputs": [],
   "source": [
    "mds = '/media/fernando/DATA/nyc_lidar/results/DSM/all-DSM-NYC.tiff'"
   ]
  },
  {
   "cell_type": "code",
   "execution_count": 3,
   "metadata": {},
   "outputs": [],
   "source": [
    "svf = svfpy.SVF(\n",
    "    mds, '/media/fernando/DATA/svf-nyc/', \n",
    "    multiplier=0.3048,\n",
    "    kernel_size_side=800, \n",
    "    tmp_folder='/media/fernando/DATA/svf-nyc/', \n",
    "    max_vertical_difference=1200, \n",
    "    boundary='test/data/nyc-boundary.gpkg',\n",
    "    unit = 'ft'\n",
    ")"
   ]
  },
  {
   "cell_type": "code",
   "execution_count": 4,
   "metadata": {},
   "outputs": [
    {
     "data": {
      "text/plain": [
       "array([ 1.,  1.,  2.,  3.,  5.,  7., 13., 41.])"
      ]
     },
     "execution_count": 4,
     "metadata": {},
     "output_type": "execute_result"
    }
   ],
   "source": [
    "svf.downscales()"
   ]
  },
  {
   "cell_type": "code",
   "execution_count": 5,
   "metadata": {},
   "outputs": [
    {
     "data": {
      "text/plain": [
       "array([ 1.,  1.,  2.,  3.,  5.,  7., 13., 41.])"
      ]
     },
     "execution_count": 5,
     "metadata": {},
     "output_type": "execute_result"
    }
   ],
   "source": [
    "svf.downscales()"
   ]
  },
  {
   "cell_type": "code",
   "execution_count": 6,
   "metadata": {},
   "outputs": [
    {
     "data": {
      "text/plain": [
       "array([ 1.25,  2.5 ,  3.75,  6.25,  8.75, 16.25, 51.25])"
      ]
     },
     "execution_count": 6,
     "metadata": {},
     "output_type": "execute_result"
    }
   ],
   "source": [
    "svf.resolutions"
   ]
  },
  {
   "cell_type": "code",
   "execution_count": 7,
   "metadata": {},
   "outputs": [
    {
     "data": {
      "text/plain": [
       "array([ 2.5 ,  3.75,  6.25,  8.75, 16.25, 51.25])"
      ]
     },
     "execution_count": 7,
     "metadata": {},
     "output_type": "execute_result"
    }
   ],
   "source": [
    "svf.resolutions[1:]"
   ]
  },
  {
   "cell_type": "code",
   "execution_count": 8,
   "metadata": {},
   "outputs": [
    {
     "data": {
      "text/plain": [
       "array([1242, 2245, 1696, 1586, 1357, 1424, 1334, 1295], dtype=int16)"
      ]
     },
     "execution_count": 8,
     "metadata": {},
     "output_type": "execute_result"
    }
   ],
   "source": [
    "svf.pad_max()"
   ]
  },
  {
   "cell_type": "code",
   "execution_count": 9,
   "metadata": {},
   "outputs": [
    {
     "name": "stdout",
     "output_type": "stream",
     "text": [
      "Preparing Downscale, resolution of 1.25\n",
      "Preparing Downscale, resolution of 2.5\n",
      "Preparing Downscale, resolution of 3.75\n",
      "Preparing Downscale, resolution of 6.25\n",
      "Preparing Downscale, resolution of 8.75\n",
      "Preparing Downscale, resolution of 16.25\n",
      "Preparing Downscale, resolution of 51.25\n"
     ]
    },
    {
     "data": {
      "text/plain": [
       "[<xarray.DataArray (band: 1, y: 126000, x: 126000)>\n",
       " [15876000000 values with dtype=float32]\n",
       " Coordinates:\n",
       "   * band         (band) int64 1\n",
       "   * x            (x) float64 9.125e+05 9.125e+05 9.125e+05 ... 1.07e+06 1.07e+06\n",
       "   * y            (y) float64 2.75e+05 2.75e+05 2.75e+05 ... 1.175e+05 1.175e+05\n",
       "     spatial_ref  int64 0\n",
       " Attributes:\n",
       "     _FillValue:    -9999.0\n",
       "     scale_factor:  1.0\n",
       "     add_offset:    0.0,\n",
       " <xarray.DataArray (band: 1, y: 63000, x: 63000)>\n",
       " [3969000000 values with dtype=float32]\n",
       " Coordinates:\n",
       "   * band         (band) int64 1\n",
       "   * x            (x) float64 9.125e+05 9.125e+05 9.125e+05 ... 1.07e+06 1.07e+06\n",
       "   * y            (y) float64 2.75e+05 2.75e+05 2.75e+05 ... 1.175e+05 1.175e+05\n",
       "     spatial_ref  int64 0\n",
       " Attributes:\n",
       "     _FillValue:    -9999.0\n",
       "     scale_factor:  1.0\n",
       "     add_offset:    0.0,\n",
       " <xarray.DataArray (band: 1, y: 42000, x: 42000)>\n",
       " [1764000000 values with dtype=float32]\n",
       " Coordinates:\n",
       "   * band         (band) int64 1\n",
       "   * x            (x) float64 9.125e+05 9.125e+05 9.125e+05 ... 1.07e+06 1.07e+06\n",
       "   * y            (y) float64 2.75e+05 2.75e+05 2.75e+05 ... 1.175e+05 1.175e+05\n",
       "     spatial_ref  int64 0\n",
       " Attributes:\n",
       "     _FillValue:    -9999.0\n",
       "     scale_factor:  1.0\n",
       "     add_offset:    0.0,\n",
       " <xarray.DataArray (band: 1, y: 25200, x: 25200)>\n",
       " [635040000 values with dtype=float32]\n",
       " Coordinates:\n",
       "   * band         (band) int64 1\n",
       "   * x            (x) float64 9.125e+05 9.125e+05 9.125e+05 ... 1.07e+06 1.07e+06\n",
       "   * y            (y) float64 2.75e+05 2.75e+05 2.75e+05 ... 1.175e+05 1.175e+05\n",
       "     spatial_ref  int64 0\n",
       " Attributes:\n",
       "     _FillValue:    -9999.0\n",
       "     scale_factor:  1.0\n",
       "     add_offset:    0.0,\n",
       " <xarray.DataArray (band: 1, y: 18000, x: 18000)>\n",
       " [324000000 values with dtype=float32]\n",
       " Coordinates:\n",
       "   * band         (band) int64 1\n",
       "   * x            (x) float64 9.125e+05 9.125e+05 9.125e+05 ... 1.07e+06 1.07e+06\n",
       "   * y            (y) float64 2.75e+05 2.75e+05 2.75e+05 ... 1.175e+05 1.175e+05\n",
       "     spatial_ref  int64 0\n",
       " Attributes:\n",
       "     _FillValue:    -9999.0\n",
       "     scale_factor:  1.0\n",
       "     add_offset:    0.0,\n",
       " <xarray.DataArray (band: 1, y: 9692, x: 9692)>\n",
       " [93934864 values with dtype=float32]\n",
       " Coordinates:\n",
       "   * band         (band) int64 1\n",
       "   * x            (x) float64 9.125e+05 9.125e+05 9.125e+05 ... 1.07e+06 1.07e+06\n",
       "   * y            (y) float64 2.75e+05 2.75e+05 2.75e+05 ... 1.175e+05 1.175e+05\n",
       "     spatial_ref  int64 0\n",
       " Attributes:\n",
       "     _FillValue:    -9999.0\n",
       "     scale_factor:  1.0\n",
       "     add_offset:    0.0,\n",
       " <xarray.DataArray (band: 1, y: 3073, x: 3073)>\n",
       " [9443329 values with dtype=float32]\n",
       " Coordinates:\n",
       "   * band         (band) int64 1\n",
       "   * x            (x) float64 9.125e+05 9.126e+05 9.126e+05 ... 1.07e+06 1.07e+06\n",
       "   * y            (y) float64 2.75e+05 2.749e+05 ... 1.176e+05 1.175e+05\n",
       "     spatial_ref  int64 0\n",
       " Attributes:\n",
       "     _FillValue:    -9999.0\n",
       "     scale_factor:  1.0\n",
       "     add_offset:    0.0]"
      ]
     },
     "execution_count": 9,
     "metadata": {},
     "output_type": "execute_result"
    }
   ],
   "source": [
    "svf.prepare_downscales()"
   ]
  },
  {
   "cell_type": "code",
   "execution_count": null,
   "metadata": {},
   "outputs": [],
   "source": [
    "svf.svf()"
   ]
  },
  {
   "cell_type": "code",
   "execution_count": 10,
   "metadata": {},
   "outputs": [
    {
     "data": {
      "text/plain": [
       "'gdal_calc.py -A /media/fernando/DATA/svf-nyc/all_1.25_upscaled_1.25.tiff -B /media/fernando/DATA/svf-nyc/all_2.5_upscaled_1.25.tiff -C /media/fernando/DATA/svf-nyc/all_3.75_upscaled_1.25.tiff -D /media/fernando/DATA/svf-nyc/all_6.25_upscaled_1.25.tiff -E /media/fernando/DATA/svf-nyc/all_8.75_upscaled_1.25.tiff -F /media/fernando/DATA/svf-nyc/all_16.25_upscaled_1.25.tiff -G /media/fernando/DATA/svf-nyc/all_51.25_upscaled_1.25.tiff --outfile=svf_all.tiff --calc=\"A+B+C+D+E+F+G\" --quiet --overwrite --hideNoData --NoDataValue=-9999 --co=\"COMPRESS=ZSTD\" --co=\"PREDICTOR=3\" --co=\"BIGTIFF=YES\" --extent=intersect'"
      ]
     },
     "execution_count": 10,
     "metadata": {},
     "output_type": "execute_result"
    }
   ],
   "source": [
    "svf._agg_all()"
   ]
  },
  {
   "cell_type": "code",
   "execution_count": null,
   "metadata": {},
   "outputs": [],
   "source": []
  },
  {
   "cell_type": "code",
   "execution_count": 17,
   "metadata": {},
   "outputs": [
    {
     "data": {
      "text/plain": [
       "array([86.4166783 , 79.19307713, 71.79004314, 64.05552023, 55.77113367,\n",
       "       46.56746344, 35.6590877 , 20.36413481])"
      ]
     },
     "execution_count": 17,
     "metadata": {},
     "output_type": "execute_result"
    }
   ],
   "source": [
    "np.rad2deg(np.pi/2 - svf.phis_angles)"
   ]
  },
  {
   "cell_type": "code",
   "execution_count": 12,
   "metadata": {},
   "outputs": [
    {
     "data": {
      "text/plain": [
       "array([0.06254076, 0.18861639, 0.3178237 , 0.45281659, 0.59740642,\n",
       "       0.75804077, 0.94842784, 1.21537513])"
      ]
     },
     "execution_count": 12,
     "metadata": {},
     "output_type": "execute_result"
    }
   ],
   "source": [
    "svf.phis_angles"
   ]
  },
  {
   "cell_type": "code",
   "execution_count": 20,
   "metadata": {},
   "outputs": [
    {
     "data": {
      "text/plain": [
       "array([ 1.,  1.,  2.,  2.,  4.,  6., 10., 31.])"
      ]
     },
     "execution_count": 20,
     "metadata": {},
     "output_type": "execute_result"
    }
   ],
   "source": [
    "svf.downscales()"
   ]
  },
  {
   "cell_type": "code",
   "execution_count": null,
   "metadata": {},
   "outputs": [],
   "source": []
  }
 ],
 "metadata": {
  "kernelspec": {
   "display_name": "Python 3.10.4 ('venv': venv)",
   "language": "python",
   "name": "python3"
  },
  "language_info": {
   "codemirror_mode": {
    "name": "ipython",
    "version": 3
   },
   "file_extension": ".py",
   "mimetype": "text/x-python",
   "name": "python",
   "nbconvert_exporter": "python",
   "pygments_lexer": "ipython3",
   "version": "3.10.6 (main, Nov 14 2022, 16:10:14) [GCC 11.3.0]"
  },
  "orig_nbformat": 4,
  "vscode": {
   "interpreter": {
    "hash": "d65e2640be51c87deae8fa53a4f278cb6174fc45683c0d3af2b5a455a7e94a62"
   }
  }
 },
 "nbformat": 4,
 "nbformat_minor": 2
}
