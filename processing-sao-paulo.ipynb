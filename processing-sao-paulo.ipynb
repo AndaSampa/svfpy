{
 "cells": [
  {
   "cell_type": "code",
   "execution_count": 1,
   "metadata": {},
   "outputs": [],
   "source": [
    "from svfpy import svfpy\n",
    "import numpy as np"
   ]
  },
  {
   "cell_type": "code",
   "execution_count": 2,
   "metadata": {},
   "outputs": [],
   "source": [
    "mds = '/media/fernando/DATA/DSM4SVF-sao-paulo.tiff'"
   ]
  },
  {
   "cell_type": "code",
   "execution_count": 3,
   "metadata": {},
   "outputs": [],
   "source": [
    "svf = svfpy.SVF(mds, '/media/fernando/DATA/svf-sp/', kernel_size_side=2500, tmp_folder='/media/fernando/DATA/svf-sp/')"
   ]
  },
  {
   "cell_type": "code",
   "execution_count": 4,
   "metadata": {},
   "outputs": [
    {
     "data": {
      "text/plain": [
       "array([ 1.,  1.,  2.,  2.,  4.,  6., 10., 31.])"
      ]
     },
     "execution_count": 4,
     "metadata": {},
     "output_type": "execute_result"
    }
   ],
   "source": [
    "svf.downscales()"
   ]
  },
  {
   "cell_type": "code",
   "execution_count": 5,
   "metadata": {},
   "outputs": [
    {
     "data": {
      "text/plain": [
       "array([ 0.5,  1. ,  2. ,  3. ,  5. , 15.5])"
      ]
     },
     "execution_count": 5,
     "metadata": {},
     "output_type": "execute_result"
    }
   ],
   "source": [
    "svf.resolutions"
   ]
  },
  {
   "cell_type": "code",
   "execution_count": 6,
   "metadata": {},
   "outputs": [
    {
     "data": {
      "text/plain": [
       "0.5"
      ]
     },
     "execution_count": 6,
     "metadata": {},
     "output_type": "execute_result"
    }
   ],
   "source": [
    "svf.resolution"
   ]
  },
  {
   "cell_type": "code",
   "execution_count": 7,
   "metadata": {},
   "outputs": [],
   "source": [
    "# svf.prepare_downscales()"
   ]
  },
  {
   "cell_type": "code",
   "execution_count": 8,
   "metadata": {},
   "outputs": [
    {
     "name": "stdout",
     "output_type": "stream",
     "text": [
      "Agregando 0.5\n",
      "0...10...20...30...40...50...60...70...80...90...100 - done.\n",
      "Input file size is 95000, 147500\n",
      "0...10...20...30...40...50...60...70...80...90...100 - done.\n",
      "Agregando 1.0\n",
      "0...10...20...30...40...50...60...70...80...90...100 - done.\n",
      "Input file size is 47500, 75000\n",
      "0...10...20...30...40...50...60...70...80...90...100 - done.\n",
      "Agregando 2.0\n",
      "0...10...20...30...40...50...60...70...80...90...100 - done.\n",
      "Input file size is 25000, 37500\n",
      "0...10...20...30...40...50...60...70...80...90...100 - done.\n",
      "Agregando 3.0\n",
      "0...10...20...30...40...50...60...70...80...90...100 - done.\n",
      "Input file size is 17500, 25000\n",
      "0...10...20...30...40...50...60...70...80...90...100 - done.\n",
      "Agregando 5.0\n",
      "0...10...20...30...40...50...60...70...80...90...100 - done.\n",
      "Input file size is 10000, 15000\n",
      "0...10...20...30...40...50...60...70...80...90...100 - done.\n",
      "Agregando 15.5\n",
      "0...10...20...30...40...50...60...70...80...90...100 - done.\n",
      "Input file size is 5000, 5000\n",
      "0...10...20...30...40...50...60...70...80...90...100 - done.\n"
     ]
    }
   ],
   "source": [
    "svf.svf()"
   ]
  },
  {
   "cell_type": "code",
   "execution_count": null,
   "metadata": {},
   "outputs": [],
   "source": []
  }
 ],
 "metadata": {
  "kernelspec": {
   "display_name": "Python 3.10.4 ('venv': venv)",
   "language": "python",
   "name": "python3"
  },
  "language_info": {
   "codemirror_mode": {
    "name": "ipython",
    "version": 3
   },
   "file_extension": ".py",
   "mimetype": "text/x-python",
   "name": "python",
   "nbconvert_exporter": "python",
   "pygments_lexer": "ipython3",
   "version": "3.10.6"
  },
  "orig_nbformat": 4,
  "vscode": {
   "interpreter": {
    "hash": "d65e2640be51c87deae8fa53a4f278cb6174fc45683c0d3af2b5a455a7e94a62"
   }
  }
 },
 "nbformat": 4,
 "nbformat_minor": 2
}
