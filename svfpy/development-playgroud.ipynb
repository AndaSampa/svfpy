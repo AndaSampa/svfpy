{
 "cells": [
  {
   "cell_type": "code",
   "execution_count": 1,
   "metadata": {},
   "outputs": [],
   "source": [
    "import svfpy\n",
    "import rasterio\n",
    "import numpy as np"
   ]
  },
  {
   "cell_type": "code",
   "execution_count": 2,
   "metadata": {},
   "outputs": [],
   "source": [
    "# np.concatenate([np.zeros((10000, 10000, 6)), np.ones((10000, 10000, 3))], axis=2).shape"
   ]
  },
  {
   "cell_type": "code",
   "execution_count": 3,
   "metadata": {},
   "outputs": [],
   "source": [
    "mds = '../test/data/mds_sao_paulo_city_4000.tiff'"
   ]
  },
  {
   "cell_type": "code",
   "execution_count": 4,
   "metadata": {},
   "outputs": [],
   "source": [
    "svf = svfpy.SVF(mds_path=mds, kernel_size=11)"
   ]
  },
  {
   "cell_type": "code",
   "execution_count": 5,
   "metadata": {},
   "outputs": [],
   "source": [
    "profile = svf.mds_src.profile"
   ]
  },
  {
   "cell_type": "code",
   "execution_count": 6,
   "metadata": {},
   "outputs": [
    {
     "name": "stdout",
     "output_type": "stream",
     "text": [
      "3.0\n",
      ".. difff\n",
      " .. angles\n"
     ]
    }
   ],
   "source": [
    "angles = svfpy.calculate(svf)"
   ]
  },
  {
   "cell_type": "code",
   "execution_count": 8,
   "metadata": {},
   "outputs": [],
   "source": [
    "max_angles = np.zeros((4000,4000,40), dtype=np.float16)"
   ]
  },
  {
   "cell_type": "code",
   "execution_count": 9,
   "metadata": {},
   "outputs": [],
   "source": [
    "masks = svfpy.lines_mask(svf)"
   ]
  },
  {
   "cell_type": "code",
   "execution_count": 35,
   "metadata": {},
   "outputs": [
    {
     "data": {
      "text/plain": [
       "array([[[ 0.1405,  0.    ,  0.    ,  0.    ],\n",
       "        [ 0.1405,  0.    ,  0.    ,  0.    ],\n",
       "        [ 0.    ,  0.    ,  0.    ,  0.    ],\n",
       "        ...,\n",
       "        [-0.2756,  0.    ,  0.    , -0.3398],\n",
       "        [ 0.2756,  0.3398,  0.2314,  0.3398],\n",
       "        [ 0.4014,  0.4875,  0.2314,  0.    ]],\n",
       "\n",
       "       [[ 0.1405,  0.    ,  0.    ,  0.    ],\n",
       "        [ 0.    ,  0.    ,  0.    ,  0.    ],\n",
       "        [ 0.    ,  0.    ,  0.    ,  0.    ],\n",
       "        ...,\n",
       "        [ 0.1405,  0.4204,  0.2314,  0.3398],\n",
       "        [ 0.4014,  0.7295,  0.4407,  0.815 ],\n",
       "        [ 0.4014,  0.3398,  0.4407,  0.6157]],\n",
       "\n",
       "       [[ 0.    ,  0.    ,  0.    ,  0.    ],\n",
       "        [ 0.    ,  0.    ,  0.    ,  0.    ],\n",
       "        [ 0.    ,  0.    ,  0.    ,  0.    ],\n",
       "        ...,\n",
       "        [ 0.4014,  0.93  ,  0.6157,  0.815 ],\n",
       "        [ 0.4014,  0.93  ,  0.6157,  0.815 ],\n",
       "        [ 0.4014,  0.4204,  0.6157,  0.815 ]],\n",
       "\n",
       "       ...,\n",
       "\n",
       "       [[ 0.    ,  0.    ,  0.    ,  0.    ],\n",
       "        [ 0.    ,  0.    ,  0.    ,  0.    ],\n",
       "        [ 0.    ,  0.    ,  0.    ,  0.    ],\n",
       "        ...,\n",
       "        [ 0.1405,  0.    ,  0.    ,  0.    ],\n",
       "        [ 0.1405,  0.1749,  0.    ,  0.    ],\n",
       "        [ 0.1405,  0.1749,  0.2314,  0.    ]],\n",
       "\n",
       "       [[ 0.    ,  0.    ,  0.    ,  0.    ],\n",
       "        [ 0.    ,  0.    ,  0.    ,  0.    ],\n",
       "        [ 0.    ,  0.    ,  0.    ,  0.    ],\n",
       "        ...,\n",
       "        [ 0.    ,  0.    ,  0.    ,  0.    ],\n",
       "        [ 0.    ,  0.    ,  0.    ,  0.    ],\n",
       "        [ 0.1405,  0.    ,  0.    ,  0.    ]],\n",
       "\n",
       "       [[-0.1405,  0.    ,  0.    ,  0.    ],\n",
       "        [ 0.    ,  0.    ,  0.    ,  0.    ],\n",
       "        [ 0.    ,  0.    ,  0.    ,  0.    ],\n",
       "        ...,\n",
       "        [ 0.    ,  0.    ,  0.    ,  0.    ],\n",
       "        [ 0.    ,  0.    ,  0.    ,  0.    ],\n",
       "        [ 0.    ,  0.    ,  0.    ,  0.    ]]], dtype=float16)"
      ]
     },
     "execution_count": 35,
     "metadata": {},
     "output_type": "execute_result"
    }
   ],
   "source": [
    "#### TODO\n",
    "## Ta quase\n",
    "np.argwhere(masks).reshape(40,6,3)[:,:,1:]\n",
    "np.max(angles[:, :, [[0,3,5,6], [0,1,2,3,]], [[0,4,5,6], [0,1,2,3]]], axis=2)\n"
   ]
  },
  {
   "cell_type": "code",
   "execution_count": null,
   "metadata": {},
   "outputs": [],
   "source": []
  },
  {
   "cell_type": "code",
   "execution_count": null,
   "metadata": {},
   "outputs": [],
   "source": []
  },
  {
   "cell_type": "code",
   "execution_count": null,
   "metadata": {},
   "outputs": [],
   "source": []
  },
  {
   "cell_type": "code",
   "execution_count": null,
   "metadata": {},
   "outputs": [],
   "source": []
  },
  {
   "cell_type": "code",
   "execution_count": null,
   "metadata": {},
   "outputs": [],
   "source": []
  },
  {
   "cell_type": "code",
   "execution_count": null,
   "metadata": {},
   "outputs": [],
   "source": [
    "for k, m in enumerate(mdss):\n",
    "    transform = transformations[k]\n",
    "    profile.update(\n",
    "        transform=transform,\n",
    "        width=m.shape[0],\n",
    "        height=m.shape[1]\n",
    "    )\n",
    "\n",
    "    with rasterio.open(f'../tmp/raw-{k}-{m.shape[1]}.tif', 'w', **profile) as dst:\n",
    "        dst.write(m, 1)"
   ]
  },
  {
   "cell_type": "code",
   "execution_count": null,
   "metadata": {},
   "outputs": [],
   "source": []
  }
 ],
 "metadata": {
  "kernelspec": {
   "display_name": "Python 3.9.7 ('venv': venv)",
   "language": "python",
   "name": "python3"
  },
  "language_info": {
   "codemirror_mode": {
    "name": "ipython",
    "version": 3
   },
   "file_extension": ".py",
   "mimetype": "text/x-python",
   "name": "python",
   "nbconvert_exporter": "python",
   "pygments_lexer": "ipython3",
   "version": "3.9.7"
  },
  "orig_nbformat": 4,
  "vscode": {
   "interpreter": {
    "hash": "d65e2640be51c87deae8fa53a4f278cb6174fc45683c0d3af2b5a455a7e94a62"
   }
  }
 },
 "nbformat": 4,
 "nbformat_minor": 2
}
