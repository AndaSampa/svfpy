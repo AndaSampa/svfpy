{
 "cells": [
  {
   "cell_type": "code",
   "execution_count": 1,
   "metadata": {},
   "outputs": [],
   "source": [
    "import svfpy\n",
    "import rasterio\n",
    "import numpy as np\n",
    "import zarr"
   ]
  },
  {
   "cell_type": "code",
   "execution_count": 2,
   "metadata": {},
   "outputs": [],
   "source": [
    "mds = '../test/data/mds_sao_paulo_city_1000.tiff'"
   ]
  },
  {
   "cell_type": "code",
   "execution_count": 3,
   "metadata": {},
   "outputs": [],
   "source": [
    "svf = svfpy.SVF(mds_path=mds, kernel_size=15)"
   ]
  },
  {
   "cell_type": "code",
   "execution_count": 4,
   "metadata": {},
   "outputs": [],
   "source": [
    "profile = svf.mds_src.profile"
   ]
  },
  {
   "cell_type": "code",
   "execution_count": 5,
   "metadata": {},
   "outputs": [
    {
     "name": "stdout",
     "output_type": "stream",
     "text": [
      "(0, 8)\n",
      "Calculando arctan\n",
      "(8, 12)\n",
      "Calculando arctan\n",
      "(12, 16)\n",
      "Calculando arctan\n",
      "(16, 20)\n",
      "Calculando arctan\n",
      "(20, 24)\n",
      "Calculando arctan\n",
      "(24, 28)\n",
      "Calculando arctan\n",
      "(28, 32)\n",
      "Calculando arctan\n",
      "(32, 36)\n",
      "Calculando arctan\n",
      "(36, 40)\n",
      "Calculando arctan\n",
      "Calulando max ...\n",
      "Calculando SVF ..\n"
     ]
    }
   ],
   "source": [
    "svf_result = svfpy.calculate(svf)\n",
    "# points, points_sem_obs = svfpy.calculate(svf)"
   ]
  },
  {
   "cell_type": "code",
   "execution_count": 6,
   "metadata": {},
   "outputs": [],
   "source": [
    "# np.sum(svf_result, axis=2).shape\n",
    "# svfpy._fuse_lines(svf)\n",
    "# svfpy.distance_matrix(size=17).shape"
   ]
  },
  {
   "cell_type": "code",
   "execution_count": 7,
   "metadata": {},
   "outputs": [],
   "source": [
    "with rasterio.open(f'../tmp/result.tif', 'w', **profile) as dst:\n",
    "    dst.write(svf_result, 1)"
   ]
  },
  {
   "cell_type": "code",
   "execution_count": 8,
   "metadata": {},
   "outputs": [],
   "source": [
    "# for i in np.arange(40):\n",
    "#     with rasterio.open(f'../tmp/result{i}.tif', 'w', **profile) as dst:\n",
    "#         dst.write(result_temp[:,:,i,1], 1)"
   ]
  },
  {
   "cell_type": "code",
   "execution_count": 65,
   "metadata": {},
   "outputs": [
    {
     "data": {
      "text/plain": [
       "Window(col_off=0, row_off=0, width=1024, height=30000)"
      ]
     },
     "execution_count": 65,
     "metadata": {},
     "output_type": "execute_result"
    }
   ],
   "source": [
    "Window.from_slices((0,30000), (0, 1024))"
   ]
  },
  {
   "cell_type": "code",
   "execution_count": null,
   "metadata": {},
   "outputs": [],
   "source": []
  },
  {
   "cell_type": "code",
   "execution_count": 15,
   "metadata": {},
   "outputs": [],
   "source": [
    "for k, m in enumerate(mdss):\n",
    "    # transform = transformations[k]\n",
    "    m = np.mean(m[0:1000, 0:1000, :, :].reshape(1000,1000, 121), axis=2)\n",
    "    profile.update(\n",
    "        # transform=transform,\n",
    "        # width=m.shape[0],\n",
    "        # height=m.shape[1]\n",
    "    )\n",
    "\n",
    "    with rasterio.open(f'../tmp/11-11-{k}-{m.shape[1]}.tif', 'w', **profile) as dst:\n",
    "        dst.write(m, 1)"
   ]
  },
  {
   "cell_type": "code",
   "execution_count": null,
   "metadata": {},
   "outputs": [],
   "source": []
  },
  {
   "cell_type": "code",
   "execution_count": null,
   "metadata": {},
   "outputs": [],
   "source": []
  }
 ],
 "metadata": {
  "kernelspec": {
   "display_name": "Python 3.10.4 ('venv': venv)",
   "language": "python",
   "name": "python3"
  },
  "language_info": {
   "codemirror_mode": {
    "name": "ipython",
    "version": 3
   },
   "file_extension": ".py",
   "mimetype": "text/x-python",
   "name": "python",
   "nbconvert_exporter": "python",
   "pygments_lexer": "ipython3",
   "version": "3.10.4"
  },
  "orig_nbformat": 4,
  "vscode": {
   "interpreter": {
    "hash": "d65e2640be51c87deae8fa53a4f278cb6174fc45683c0d3af2b5a455a7e94a62"
   }
  }
 },
 "nbformat": 4,
 "nbformat_minor": 2
}
