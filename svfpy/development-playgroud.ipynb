{
 "cells": [
  {
   "cell_type": "code",
   "execution_count": 1,
   "metadata": {},
   "outputs": [],
   "source": [
    "import svfpy\n",
    "import rasterio\n",
    "import numpy as np"
   ]
  },
  {
   "cell_type": "code",
   "execution_count": 2,
   "metadata": {},
   "outputs": [],
   "source": [
    "mds = '../test/data/mds_sao_paulo_city_4000.tiff'"
   ]
  },
  {
   "cell_type": "code",
   "execution_count": 3,
   "metadata": {},
   "outputs": [],
   "source": [
    "svf = svfpy.SVF(mds_path=mds, kernel_size=11)"
   ]
  },
  {
   "cell_type": "code",
   "execution_count": 4,
   "metadata": {},
   "outputs": [],
   "source": [
    "profile = svf.mds_src.profile"
   ]
  },
  {
   "cell_type": "code",
   "execution_count": 5,
   "metadata": {},
   "outputs": [],
   "source": [
    "# profile"
   ]
  },
  {
   "cell_type": "code",
   "execution_count": 6,
   "metadata": {},
   "outputs": [
    {
     "name": "stdout",
     "output_type": "stream",
     "text": [
      "rays ..\n"
     ]
    }
   ],
   "source": [
    "windows = svfpy.calculate(svf)"
   ]
  },
  {
   "cell_type": "code",
   "execution_count": 7,
   "metadata": {},
   "outputs": [
    {
     "data": {
      "text/plain": [
       "(4000, 4000, 11, 11)"
      ]
     },
     "execution_count": 7,
     "metadata": {},
     "output_type": "execute_result"
    }
   ],
   "source": [
    "windows.shape"
   ]
  },
  {
   "cell_type": "code",
   "execution_count": 8,
   "metadata": {},
   "outputs": [],
   "source": [
    "fuse_lines = svfpy._fuse_lines(svf)"
   ]
  },
  {
   "cell_type": "code",
   "execution_count": 9,
   "metadata": {},
   "outputs": [
    {
     "name": "stdout",
     "output_type": "stream",
     "text": [
      "[[0 0 0 0 0 0 0 0 0 0 0]\n",
      " [0 0 0 0 0 0 0 0 0 0 0]\n",
      " [0 0 0 0 0 0 0 0 0 0 0]\n",
      " [0 0 0 0 0 0 0 0 0 0 0]\n",
      " [0 0 0 0 0 0 0 0 0 0 0]\n",
      " [0 0 0 0 0 1 0 0 0 0 0]\n",
      " [0 0 0 0 1 0 0 0 0 0 0]\n",
      " [0 0 1 1 0 0 0 0 0 0 0]\n",
      " [0 1 0 0 0 0 0 0 0 0 0]\n",
      " [1 0 0 0 0 0 0 0 0 0 0]\n",
      " [0 0 0 0 0 0 0 0 0 0 0]]\n"
     ]
    }
   ],
   "source": [
    "lines_mask = np.zeros((fuse_lines.shape[0], svf.kernel_size, svf.kernel_size), dtype='bool')\n",
    "for k, fl in enumerate(fuse_lines):\n",
    "    lm = np.zeros((svf.kernel_size, svf.kernel_size), dtype='bool')\n",
    "    lm[fl[:, 0], fl[:, 1]] = True\n",
    "    lines_mask[k] = lm\n",
    "#     print(lm.astype('int'))\n",
    "print(lines_mask[8].astype('int'))"
   ]
  },
  {
   "cell_type": "code",
   "execution_count": 36,
   "metadata": {},
   "outputs": [
    {
     "data": {
      "text/plain": [
       "array([[770.5, 770. , 770. , ..., 769. , 769. , 769. ],\n",
       "       [770.5, 770.5, 770. , ..., 769. , 769. , 769. ],\n",
       "       [770.5, 770.5, 770.5, ..., 769. , 769. , 769. ],\n",
       "       ...,\n",
       "       [762. , 762. , 762. , ..., 776. , 776. , 776. ],\n",
       "       [762. , 762. , 762. , ..., 776. , 776. , 776. ],\n",
       "       [762. , 762. , 762. , ..., 776. , 776. , 776. ]], dtype=float32)"
      ]
     },
     "execution_count": 36,
     "metadata": {},
     "output_type": "execute_result"
    }
   ],
   "source": [
    "np.max(windows[np.tile(lines_mask[8], (4000, 4000,1,1))].reshape(4000,4000,6), axis=2)"
   ]
  },
  {
   "cell_type": "code",
   "execution_count": null,
   "metadata": {},
   "outputs": [
    {
     "data": {
      "text/plain": [
       "[(4010, 4010),\n",
       " (2010, 2010),\n",
       " (1010, 1010),\n",
       " (510, 510),\n",
       " (260, 260),\n",
       " (135, 135),\n",
       " (73, 73),\n",
       " (42, 42),\n",
       " (26, 26),\n",
       " (18, 18),\n",
       " (14, 14)]"
      ]
     },
     "execution_count": 7,
     "metadata": {},
     "output_type": "execute_result"
    }
   ],
   "source": [
    "[m.shape for m in mdss]"
   ]
  },
  {
   "cell_type": "code",
   "execution_count": 8,
   "metadata": {},
   "outputs": [
    {
     "data": {
      "text/plain": [
       "array([[876.5, 905. ,   0. , 905. , 876.5, 862.5, 876.5, 905. ,   0. ,\n",
       "        905. , 876.5, 862.5, 876.5, 905. ],\n",
       "       [880. , 867. ,   0. , 867. , 880. , 853. , 880. , 867. ,   0. ,\n",
       "        867. , 880. , 853. , 880. , 867. ],\n",
       "       [  0. ,   0. ,   0. ,   0. ,   0. ,   0. ,   0. ,   0. ,   0. ,\n",
       "          0. ,   0. ,   0. ,   0. ,   0. ],\n",
       "       [880. , 867. ,   0. , 867. , 880. , 853. , 880. , 867. ,   0. ,\n",
       "        867. , 880. , 853. , 880. , 867. ],\n",
       "       [876.5, 905. ,   0. , 905. , 876.5, 862.5, 876.5, 905. ,   0. ,\n",
       "        905. , 876.5, 862.5, 876.5, 905. ],\n",
       "       [899.5, 898.5,   0. , 898.5, 899.5, 879.5, 899.5, 898.5,   0. ,\n",
       "        898.5, 899.5, 879.5, 899.5, 898.5],\n",
       "       [876.5, 905. ,   0. , 905. , 876.5, 862.5, 876.5, 905. ,   0. ,\n",
       "        905. , 876.5, 862.5, 876.5, 905. ],\n",
       "       [880. , 867. ,   0. , 867. , 880. , 853. , 880. , 867. ,   0. ,\n",
       "        867. , 880. , 853. , 880. , 867. ],\n",
       "       [  0. ,   0. ,   0. ,   0. ,   0. ,   0. ,   0. ,   0. ,   0. ,\n",
       "          0. ,   0. ,   0. ,   0. ,   0. ],\n",
       "       [880. , 867. ,   0. , 867. , 880. , 853. , 880. , 867. ,   0. ,\n",
       "        867. , 880. , 853. , 880. , 867. ],\n",
       "       [876.5, 905. ,   0. , 905. , 876.5, 862.5, 876.5, 905. ,   0. ,\n",
       "        905. , 876.5, 862.5, 876.5, 905. ],\n",
       "       [899.5, 898.5,   0. , 898.5, 899.5, 879.5, 899.5, 898.5,   0. ,\n",
       "        898.5, 899.5, 879.5, 899.5, 898.5],\n",
       "       [876.5, 905. ,   0. , 905. , 876.5, 862.5, 876.5, 905. ,   0. ,\n",
       "        905. , 876.5, 862.5, 876.5, 905. ],\n",
       "       [880. , 867. ,   0. , 867. , 880. , 853. , 880. , 867. ,   0. ,\n",
       "        867. , 880. , 853. , 880. , 867. ]], dtype=float32)"
      ]
     },
     "execution_count": 8,
     "metadata": {},
     "output_type": "execute_result"
    }
   ],
   "source": [
    "# mdss[-1].shape, transformations[-1]\n",
    "mdss[-1]"
   ]
  },
  {
   "cell_type": "code",
   "execution_count": 9,
   "metadata": {},
   "outputs": [],
   "source": [
    "# for k, m in enumerate(mdss):\n",
    "#     transform = transformations[k]\n",
    "#     profile.update(\n",
    "#         transform=transform,\n",
    "#         width=m.shape[0],\n",
    "#         height=m.shape[1]\n",
    "#     )\n",
    "\n",
    "#     with rasterio.open(f'../tmp/raw-{k}-{m.shape[1]}.tif', 'w', **profile) as dst:\n",
    "#         dst.write(m, 1)"
   ]
  },
  {
   "cell_type": "code",
   "execution_count": 10,
   "metadata": {},
   "outputs": [
    {
     "data": {
      "text/plain": [
       "(40, 6, 2)"
      ]
     },
     "execution_count": 10,
     "metadata": {},
     "output_type": "execute_result"
    }
   ],
   "source": [
    "svfpy._fuse_lines(svf).shape"
   ]
  },
  {
   "cell_type": "code",
   "execution_count": 11,
   "metadata": {},
   "outputs": [
    {
     "ename": "AttributeError",
     "evalue": "'SVF' object has no attribute 'view_as_windows'",
     "output_type": "error",
     "traceback": [
      "\u001b[0;31m---------------------------------------------------------------------------\u001b[0m",
      "\u001b[0;31mAttributeError\u001b[0m                            Traceback (most recent call last)",
      "\u001b[1;32m/home/feromes/dev/svfpy/svfpy/development-playgroud.ipynb Cell 11\u001b[0m in \u001b[0;36m<cell line: 1>\u001b[0;34m()\u001b[0m\n\u001b[0;32m----> <a href='vscode-notebook-cell:/home/feromes/dev/svfpy/svfpy/development-playgroud.ipynb#ch0000048?line=0'>1</a>\u001b[0m svfpy\u001b[39m.\u001b[39;49m_rays(svf)\n",
      "File \u001b[0;32m~/dev/svfpy/svfpy/svfpy.py:104\u001b[0m, in \u001b[0;36m_rays\u001b[0;34m(svf)\u001b[0m\n\u001b[1;32m    103\u001b[0m \u001b[39mdef\u001b[39;00m \u001b[39m_rays\u001b[39m(svf):\n\u001b[0;32m--> 104\u001b[0m   kernel \u001b[39m=\u001b[39m svf\u001b[39m.\u001b[39;49mview_as_windows\n\u001b[1;32m    105\u001b[0m   \u001b[39mreturn\u001b[39;00m kernel\n",
      "\u001b[0;31mAttributeError\u001b[0m: 'SVF' object has no attribute 'view_as_windows'"
     ]
    }
   ],
   "source": [
    "svfpy._rays(svf)"
   ]
  },
  {
   "cell_type": "code",
   "execution_count": null,
   "metadata": {},
   "outputs": [],
   "source": []
  }
 ],
 "metadata": {
  "kernelspec": {
   "display_name": "Python 3.8.5 ('venv': venv)",
   "language": "python",
   "name": "python3"
  },
  "language_info": {
   "codemirror_mode": {
    "name": "ipython",
    "version": 3
   },
   "file_extension": ".py",
   "mimetype": "text/x-python",
   "name": "python",
   "nbconvert_exporter": "python",
   "pygments_lexer": "ipython3",
   "version": "3.8.5"
  },
  "orig_nbformat": 4,
  "vscode": {
   "interpreter": {
    "hash": "b9a92909818981bbd1518849a6fc81c2bae49f4a02407dcba070c865bbbc7414"
   }
  }
 },
 "nbformat": 4,
 "nbformat_minor": 2
}
