{
 "cells": [
  {
   "cell_type": "code",
   "execution_count": 1,
   "metadata": {},
   "outputs": [],
   "source": [
    "import rioxarray\n",
    "import numpy as np\n",
    "import cupy as cp\n",
    "from multiprocessing import Pool"
   ]
  },
  {
   "cell_type": "code",
   "execution_count": 2,
   "metadata": {},
   "outputs": [],
   "source": [
    "file = 'test/data/mds_sao_paulo_city_4000.tiff'"
   ]
  },
  {
   "cell_type": "code",
   "execution_count": 3,
   "metadata": {},
   "outputs": [],
   "source": [
    "xds = rioxarray.open_rasterio(file)"
   ]
  },
  {
   "cell_type": "code",
   "execution_count": 4,
   "metadata": {},
   "outputs": [
    {
     "data": {
      "text/plain": [
       "(4000, 4000)"
      ]
     },
     "execution_count": 4,
     "metadata": {},
     "output_type": "execute_result"
    }
   ],
   "source": [
    "xds.rio.width, xds.rio.height"
   ]
  },
  {
   "cell_type": "code",
   "execution_count": 5,
   "metadata": {},
   "outputs": [
    {
     "data": {
      "text/plain": [
       "array([0, 1, 2, 3, 4, 5, 6, 7, 8, 9])"
      ]
     },
     "execution_count": 5,
     "metadata": {},
     "output_type": "execute_result"
    }
   ],
   "source": [
    "a0 = cp.arange(10)\n",
    "a0"
   ]
  },
  {
   "cell_type": "code",
   "execution_count": 6,
   "metadata": {},
   "outputs": [
    {
     "data": {
      "text/plain": [
       "array([1, 3, 9, 8, 7, 2, 4, 5, 0, 6])"
      ]
     },
     "execution_count": 6,
     "metadata": {},
     "output_type": "execute_result"
    }
   ],
   "source": [
    "cp.random.shuffle(a0)\n",
    "a0"
   ]
  },
  {
   "cell_type": "code",
   "execution_count": 7,
   "metadata": {},
   "outputs": [
    {
     "data": {
      "text/plain": [
       "array([1, 3, 9, 9, 9, 9, 9, 9, 9, 9])"
      ]
     },
     "execution_count": 7,
     "metadata": {},
     "output_type": "execute_result"
    }
   ],
   "source": [
    "np.maximum.accumulate(a0.get())"
   ]
  },
  {
   "cell_type": "code",
   "execution_count": 8,
   "metadata": {},
   "outputs": [],
   "source": [
    "thetas = 32 # deve ser divisível por 4\n",
    "phis = 8\n",
    "observer_h = 1.2 ## TODO\n",
    "delta_theta = 2*np.pi/thetas\n",
    "resolution = xds.rio.resolution()\n",
    "tangents = np.tan(np.pi/2 - np.arcsin(np.arange(1 - 1/phis/2, 1/phis/2, -1/phis)))\n",
    "indices = np.indices(xds.rio.shape)"
   ]
  },
  {
   "cell_type": "code",
   "execution_count": 9,
   "metadata": {},
   "outputs": [],
   "source": [
    "svf = np.ones(xds.rio.shape, dtype='int16')\n",
    "# svf_x = np.zeros(xds.rio.shape, dtype='int16')\n",
    "# svf_y = np.zeros(xds.rio.shape, dtype='int16')\n",
    "# grid_max = np.zeros(xds.rio.shape)"
   ]
  },
  {
   "cell_type": "code",
   "execution_count": 10,
   "metadata": {},
   "outputs": [],
   "source": [
    "def rotate_2d(mds, angle):\n",
    "    shape = mds.shape\n",
    "    \n",
    "    y, x = np.indices(shape,  dtype='float32')\n",
    "    x, y = x - shape[0]//2, y[::-1] - shape[0]//2\n",
    "\n",
    "    xr = np.int32(np.cos(angle) * x - np.sin(angle) * y[::-1] + shape[0]//2)\n",
    "    yr = np.int32(np.sin(angle) * x + np.cos(angle) * y[::-1] + shape[0]//2)\n",
    "    \n",
    "\n",
    "    xr = np.where(xr < 0, 0, xr)\n",
    "    xr = np.where(xr > shape[0]-1, shape[0]-1, xr)\n",
    "    yr = np.where(yr < 0, 0, yr)\n",
    "    yr = np.where(yr > shape[0]-1, shape[0]-1, yr)\n",
    "\n",
    "    return mds[yr, xr]"
   ]
  },
  {
   "cell_type": "code",
   "execution_count": 11,
   "metadata": {},
   "outputs": [],
   "source": [
    "def calc_svf_angle(r, t):\n",
    "    # print(\"Efetuando Projecao\")\n",
    "    projection = np.rot90(mds_r, k=r) * t + resolution[0] * indices[1]\n",
    "    # print(\"Projecao Acumulada\")\n",
    "    projection_acc = np.maximum.accumulate(projection, axis=1)\n",
    "    # print(\"comparando ...\")\n",
    "    sky_is_visible = np.less_equal(projection_acc, projection)\n",
    "    # print(\"rotacionando de volta\")\n",
    "    return np.rot90(sky_is_visible, k=-r)"
   ]
  },
  {
   "cell_type": "code",
   "execution_count": 12,
   "metadata": {},
   "outputs": [
    {
     "name": "stdout",
     "output_type": "stream",
     "text": [
      "0.0\n",
      "11.25\n",
      "22.5\n",
      "33.75\n",
      "45.0\n",
      "56.25\n",
      "67.5\n",
      "78.75\n"
     ]
    }
   ],
   "source": [
    "## VErsão refatorada\n",
    "for i in np.linspace(0, np.pi/2, thetas//4, endpoint=False):\n",
    "\n",
    "    mds_r = rotate_2d(xds.values[0], i)\n",
    "    print(np.rad2deg(i))\n",
    "\n",
    "    p_loop = np.array([[r, t] for r in range(4) for t in tangents])\n",
    "\n",
    "    with Pool(12) as p:\n",
    "        svf_part = p.starmap(calc_svf_angle, zip(p_loop[:, 0], p_loop[:, 1]))\n",
    "\n",
    "    svf += rotate_2d(np.sum(np.array(svf_part), axis=0), -i)\n",
    "\n"
   ]
  },
  {
   "cell_type": "code",
   "execution_count": 13,
   "metadata": {},
   "outputs": [],
   "source": [
    "xds.values = svf.reshape(1, 4000, 4000)\n",
    "xds.rio.to_raster('tmp/result_raytracing.tif')"
   ]
  },
  {
   "cell_type": "code",
   "execution_count": null,
   "metadata": {},
   "outputs": [],
   "source": []
  }
 ],
 "metadata": {
  "kernelspec": {
   "display_name": "Python 3.9.7 ('venv': venv)",
   "language": "python",
   "name": "python3"
  },
  "language_info": {
   "codemirror_mode": {
    "name": "ipython",
    "version": 3
   },
   "file_extension": ".py",
   "mimetype": "text/x-python",
   "name": "python",
   "nbconvert_exporter": "python",
   "pygments_lexer": "ipython3",
   "version": "3.10.4"
  },
  "orig_nbformat": 4,
  "vscode": {
   "interpreter": {
    "hash": "d65e2640be51c87deae8fa53a4f278cb6174fc45683c0d3af2b5a455a7e94a62"
   }
  }
 },
 "nbformat": 4,
 "nbformat_minor": 2
}
