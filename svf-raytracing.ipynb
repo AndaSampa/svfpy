{
 "cells": [
  {
   "cell_type": "code",
   "execution_count": 1,
   "metadata": {},
   "outputs": [],
   "source": [
    "import rioxarray\n",
    "import numpy as np\n",
    "from multiprocessing import Pool\n",
    "from scipy import ndimage"
   ]
  },
  {
   "cell_type": "code",
   "execution_count": 2,
   "metadata": {},
   "outputs": [],
   "source": [
    "# file = 'test/data/mds_sao_paulo_city_4000.tiff'\n",
    "file = 'test/data/mds_sao_paulo_city_1000.tiff'"
   ]
  },
  {
   "cell_type": "code",
   "execution_count": 3,
   "metadata": {},
   "outputs": [],
   "source": [
    "xds = rioxarray.open_rasterio(file)"
   ]
  },
  {
   "cell_type": "code",
   "execution_count": 4,
   "metadata": {},
   "outputs": [
    {
     "data": {
      "text/plain": [
       "(1000, 1000)"
      ]
     },
     "execution_count": 4,
     "metadata": {},
     "output_type": "execute_result"
    }
   ],
   "source": [
    "xds.rio.width, xds.rio.height"
   ]
  },
  {
   "cell_type": "code",
   "execution_count": 5,
   "metadata": {},
   "outputs": [],
   "source": [
    "thetas = 32 # deve ser divisível por 4\n",
    "phis = 8\n",
    "observer_h = 1.2 ## TODO\n",
    "delta_theta = 2*np.pi/thetas\n",
    "resolution = xds.rio.resolution()\n",
    "tangents = np.tan(np.pi/2 - np.arcsin(np.arange(1 - 1/phis/2, 1/phis/2, -1/phis)))\n",
    "indices = np.indices(xds.rio.shape)"
   ]
  },
  {
   "cell_type": "code",
   "execution_count": 25,
   "metadata": {},
   "outputs": [
    {
     "data": {
      "text/plain": [
       "(2, 1000, 1000)"
      ]
     },
     "execution_count": 25,
     "metadata": {},
     "output_type": "execute_result"
    }
   ],
   "source": [
    "indices.shape"
   ]
  },
  {
   "cell_type": "code",
   "execution_count": 6,
   "metadata": {},
   "outputs": [],
   "source": [
    "svf = np.ones(xds.rio.shape, dtype='int16')"
   ]
  },
  {
   "cell_type": "code",
   "execution_count": 7,
   "metadata": {},
   "outputs": [
    {
     "data": {
      "text/plain": [
       "array([[[  0,   0,   0, ...,   0,   0,   0],\n",
       "        [  1,   1,   1, ...,   1,   1,   1],\n",
       "        [  2,   2,   2, ...,   2,   2,   2],\n",
       "        ...,\n",
       "        [120, 120, 120, ..., 120, 120, 120],\n",
       "        [121, 121, 121, ..., 121, 121, 121],\n",
       "        [122, 122, 122, ..., 122, 122, 122]],\n",
       "\n",
       "       [[  0,   1,   2, ...,  20,  21,  22],\n",
       "        [  0,   1,   2, ...,  20,  21,  22],\n",
       "        [  0,   1,   2, ...,  20,  21,  22],\n",
       "        ...,\n",
       "        [  0,   1,   2, ...,  20,  21,  22],\n",
       "        [  0,   1,   2, ...,  20,  21,  22],\n",
       "        [  0,   1,   2, ...,  20,  21,  22]]])"
      ]
     },
     "execution_count": 7,
     "metadata": {},
     "output_type": "execute_result"
    }
   ],
   "source": [
    "np.indices(np.ones((123, 23)).shape)"
   ]
  },
  {
   "cell_type": "code",
   "execution_count": 8,
   "metadata": {},
   "outputs": [],
   "source": [
    "mds = np.arange(3*3).reshape(3, 3)"
   ]
  },
  {
   "cell_type": "code",
   "execution_count": 9,
   "metadata": {},
   "outputs": [
    {
     "data": {
      "text/plain": [
       "array([[0, 1, 2],\n",
       "       [3, 4, 5],\n",
       "       [6, 7, 8]])"
      ]
     },
     "execution_count": 9,
     "metadata": {},
     "output_type": "execute_result"
    }
   ],
   "source": [
    "mds"
   ]
  },
  {
   "cell_type": "code",
   "execution_count": 10,
   "metadata": {},
   "outputs": [
    {
     "data": {
      "text/plain": [
       "array([[0, 2, 0],\n",
       "       [0, 4, 8],\n",
       "       [0, 6, 0]])"
      ]
     },
     "execution_count": 10,
     "metadata": {},
     "output_type": "execute_result"
    }
   ],
   "source": [
    "ndimage.rotate(mds, 45, reshape=False)"
   ]
  },
  {
   "cell_type": "code",
   "execution_count": 12,
   "metadata": {},
   "outputs": [],
   "source": [
    "# yr, xr = rotate_2d(mds, np.pi/4)"
   ]
  },
  {
   "cell_type": "code",
   "execution_count": 13,
   "metadata": {},
   "outputs": [],
   "source": [
    "# yr.shape, xr.shape"
   ]
  },
  {
   "cell_type": "code",
   "execution_count": 15,
   "metadata": {},
   "outputs": [],
   "source": [
    "# mds[yr, xr]"
   ]
  },
  {
   "cell_type": "code",
   "execution_count": 17,
   "metadata": {},
   "outputs": [],
   "source": [
    "# mds[xr]"
   ]
  },
  {
   "cell_type": "code",
   "execution_count": 18,
   "metadata": {},
   "outputs": [],
   "source": [
    "# yr.shape, xr.T.shape"
   ]
  },
  {
   "cell_type": "code",
   "execution_count": 19,
   "metadata": {},
   "outputs": [],
   "source": [
    "# np.ones((21, 20))[np.int32(yr), np.int32(xr)]"
   ]
  },
  {
   "cell_type": "code",
   "execution_count": 35,
   "metadata": {},
   "outputs": [],
   "source": [
    "def rotate_2d(mds, angle):\n",
    "    shape = mds.shape\n",
    "    print(shape)\n",
    "\n",
    "    y, x = np.indices(shape,  dtype='float32')\n",
    "    x, y = x - shape[0]//2, y[::-1] - shape[0]//2\n",
    "\n",
    "    xr = np.int32(np.cos(angle) * x - np.sin(angle) * y[::-1] + shape[1]//2)\n",
    "    yr = np.int32(np.sin(angle) * x + np.cos(angle) * y[::-1] + shape[0]//2)\n",
    "    \n",
    "\n",
    "    xr = np.where(xr < 0, 0, xr)\n",
    "    xr = np.where(xr > shape[0]-1, shape[0]-1, xr)\n",
    "    yr = np.where(yr < 0, 0, yr)\n",
    "    yr = np.where(yr > shape[1]-1, shape[1]-1, yr)\n",
    "\n",
    "    return mds[np.int32(yr), np.int32(xr)]\n",
    "    # return np.int32(yr), np.int32(xr)"
   ]
  },
  {
   "cell_type": "code",
   "execution_count": 36,
   "metadata": {},
   "outputs": [],
   "source": [
    "def calc_svf_angle(r, t):\n",
    "    # print(\"Efetuando Projecao\")\n",
    "    projection = np.rot90(mds_r, k=r) * t + resolution[0] * indices[1]\n",
    "    # print(\"Projecao Acumulada\")\n",
    "    projection_acc = np.maximum.accumulate(projection, axis=1)\n",
    "    # print(\"comparando ...\")\n",
    "    sky_is_visible = np.less_equal(projection_acc, projection)\n",
    "    # print(\"rotacionando de volta\")\n",
    "    return np.rot90(sky_is_visible, k=-r)"
   ]
  },
  {
   "cell_type": "code",
   "execution_count": 37,
   "metadata": {},
   "outputs": [],
   "source": [
    "## TODO\n",
    "# Calcular a distancia\n",
    "# Manter o ũltimo delta de indice antes de ser visivel == True\n",
    "# indos sempre do mais distante para o mais próximo"
   ]
  },
  {
   "cell_type": "code",
   "execution_count": 38,
   "metadata": {},
   "outputs": [
    {
     "data": {
      "text/plain": [
       "array([[770. , 770. , 770. , ..., 792. , 792. , 792. ],\n",
       "       [770. , 770. , 770. , ..., 792. , 792. , 792. ],\n",
       "       [770. , 770. , 770. , ..., 792. , 792. , 792. ],\n",
       "       ...,\n",
       "       [766.5, 766.5, 766.5, ..., 792.5, 792.5, 792.5],\n",
       "       [766.5, 766.5, 766.5, ..., 792.5, 792.5, 792.5],\n",
       "       [766. , 759.5, 759.5, ..., 792. , 792.5, 792.5]], dtype=float32)"
      ]
     },
     "execution_count": 38,
     "metadata": {},
     "output_type": "execute_result"
    }
   ],
   "source": [
    "xds[0].values"
   ]
  },
  {
   "cell_type": "code",
   "execution_count": 39,
   "metadata": {},
   "outputs": [
    {
     "name": "stdout",
     "output_type": "stream",
     "text": [
      "(1000, 1000)\n",
      "0.0\n",
      "(1000, 1000)\n",
      "(1000, 1000)\n",
      "11.25\n",
      "(1000, 1000)\n",
      "(1000, 1000)\n",
      "22.5\n",
      "(1000, 1000)\n",
      "(1000, 1000)\n",
      "33.75\n",
      "(1000, 1000)\n",
      "(1000, 1000)\n",
      "45.0\n",
      "(1000, 1000)\n",
      "(1000, 1000)\n",
      "56.25\n",
      "(1000, 1000)\n",
      "(1000, 1000)\n",
      "67.5\n",
      "(1000, 1000)\n",
      "(1000, 1000)\n",
      "78.75\n",
      "(1000, 1000)\n"
     ]
    }
   ],
   "source": [
    "## VErsão refatorada\n",
    "for i in np.linspace(0, np.pi/2, thetas//4, endpoint=False):\n",
    "\n",
    "    mds_r = rotate_2d(xds[0].values, i)\n",
    "    print(np.rad2deg(i))\n",
    "\n",
    "    p_loop = np.array([[r, t] for r in range(4) for t in tangents])\n",
    "\n",
    "    with Pool(12) as p:\n",
    "        svf_part = p.starmap(calc_svf_angle, zip(p_loop[:, 0], p_loop[:, 1]))\n",
    "\n",
    "    svf += rotate_2d(np.sum(np.array(svf_part), axis=0), -i)\n",
    "\n"
   ]
  },
  {
   "cell_type": "code",
   "execution_count": 40,
   "metadata": {},
   "outputs": [
    {
     "data": {
      "text/plain": [
       "(1000, 1000)"
      ]
     },
     "execution_count": 40,
     "metadata": {},
     "output_type": "execute_result"
    }
   ],
   "source": [
    "svf.shape"
   ]
  },
  {
   "cell_type": "code",
   "execution_count": 41,
   "metadata": {},
   "outputs": [],
   "source": [
    "xds.values = svf.reshape(1, 1000, 1000)\n",
    "xds.rio.to_raster('tmp/result_raytracing.tif')"
   ]
  },
  {
   "cell_type": "code",
   "execution_count": null,
   "metadata": {},
   "outputs": [],
   "source": []
  },
  {
   "cell_type": "code",
   "execution_count": null,
   "metadata": {},
   "outputs": [],
   "source": []
  },
  {
   "cell_type": "code",
   "execution_count": null,
   "metadata": {},
   "outputs": [],
   "source": []
  },
  {
   "cell_type": "markdown",
   "metadata": {},
   "source": [
    "## Calc Understanding"
   ]
  },
  {
   "cell_type": "code",
   "execution_count": 123,
   "metadata": {},
   "outputs": [],
   "source": [
    "import numpy as np\n",
    "import matplotlib.pyplot as plt"
   ]
  },
  {
   "cell_type": "code",
   "execution_count": 279,
   "metadata": {},
   "outputs": [],
   "source": [
    "angle = 30\n",
    "angle = np.pi/2 - np.deg2rad(angle)\n",
    "np.random.seed(13)"
   ]
  },
  {
   "cell_type": "code",
   "execution_count": 280,
   "metadata": {},
   "outputs": [
    {
     "data": {
      "text/plain": [
       "1.7320508075688776"
      ]
     },
     "execution_count": 280,
     "metadata": {},
     "output_type": "execute_result"
    }
   ],
   "source": [
    "np.tan(angle)"
   ]
  },
  {
   "cell_type": "code",
   "execution_count": 281,
   "metadata": {},
   "outputs": [
    {
     "data": {
      "text/plain": [
       "array([ 6, 11,  7,  5,  8,  8,  2,  1,  7,  2,  3, 10])"
      ]
     },
     "execution_count": 281,
     "metadata": {},
     "output_type": "execute_result"
    }
   ],
   "source": [
    "mds = np.random.RandomState(40).randint(0, 12, 12)\n",
    "mds"
   ]
  },
  {
   "cell_type": "code",
   "execution_count": 282,
   "metadata": {},
   "outputs": [
    {
     "data": {
      "text/plain": [
       "array([[ 0,  1,  2,  3,  4,  5,  6,  7,  8,  9, 10, 11]])"
      ]
     },
     "execution_count": 282,
     "metadata": {},
     "output_type": "execute_result"
    }
   ],
   "source": [
    "positions = np.indices(mds.shape)\n",
    "positions"
   ]
  },
  {
   "cell_type": "code",
   "execution_count": 283,
   "metadata": {},
   "outputs": [
    {
     "data": {
      "text/plain": [
       "array([[10.39230485, 20.05255888, 14.12435565, 11.66025404, 17.85640646,\n",
       "        18.85640646,  9.46410162,  8.73205081, 20.12435565, 12.46410162,\n",
       "        15.19615242, 28.32050808]])"
      ]
     },
     "execution_count": 283,
     "metadata": {},
     "output_type": "execute_result"
    }
   ],
   "source": [
    "mds_projection = mds * np.tan(angle) + (1 * positions)\n",
    "mds_projection"
   ]
  },
  {
   "cell_type": "code",
   "execution_count": 284,
   "metadata": {},
   "outputs": [
    {
     "data": {
      "image/png": "[encoded data removed]",
      "text/plain": [
       "<Figure size 720x360 with 1 Axes>"
      ]
     },
     "metadata": {
      "needs_background": "light"
     },
     "output_type": "display_data"
    }
   ],
   "source": [
    "fig = plt.figure(figsize = (10, 5))\n",
    "plt.bar(positions[0], mds)\n",
    "# plt.plot(positions[0], mds)\n",
    "for i in range(mds.shape[0]):\n",
    "    plt.plot([positions[0][i], mds_projection[0][i]], [mds[i], 0])"
   ]
  },
  {
   "cell_type": "code",
   "execution_count": 285,
   "metadata": {},
   "outputs": [
    {
     "data": {
      "text/plain": [
       "array([[10.39230485, 20.05255888, 20.05255888, 20.05255888, 20.05255888,\n",
       "        20.05255888, 20.05255888, 20.05255888, 20.12435565, 20.12435565,\n",
       "        20.12435565, 28.32050808]])"
      ]
     },
     "execution_count": 285,
     "metadata": {},
     "output_type": "execute_result"
    }
   ],
   "source": [
    "max_projection_accumulation = np.maximum.accumulate(mds_projection, axis=1)\n",
    "max_projection_accumulation"
   ]
  },
  {
   "cell_type": "code",
   "execution_count": 286,
   "metadata": {},
   "outputs": [
    {
     "data": {
      "text/plain": [
       "array([[ True,  True, False, False, False, False, False, False,  True,\n",
       "        False, False,  True]])"
      ]
     },
     "execution_count": 286,
     "metadata": {},
     "output_type": "execute_result"
    }
   ],
   "source": [
    "visible = np.less_equal(max_projection_accumulation, mds_projection)\n",
    "visible"
   ]
  },
  {
   "cell_type": "code",
   "execution_count": 287,
   "metadata": {},
   "outputs": [
    {
     "data": {
      "text/plain": [
       "array([ 0,  1,  1,  1,  1,  1,  1,  1,  8,  8,  8, 11])"
      ]
     },
     "execution_count": 287,
     "metadata": {},
     "output_type": "execute_result"
    }
   ],
   "source": [
    "max_idx = np.where(max_projection_accumulation==mds_projection)[-1]\n",
    "idx_repeats = np.pad(max_idx, (0,1), constant_values=12)[1:] - max_idx\n",
    "max_projection_accumulation_index = np.repeat(max_idx, idx_repeats, axis=0)\n",
    "max_projection_accumulation_index"
   ]
  },
  {
   "cell_type": "code",
   "execution_count": 288,
   "metadata": {},
   "outputs": [
    {
     "data": {
      "text/plain": [
       "array([  0,   0,  -4,  -6,  -3,  -3,  -9, -10,   0,  -5,  -4,   0])"
      ]
     },
     "execution_count": 288,
     "metadata": {},
     "output_type": "execute_result"
    }
   ],
   "source": [
    "vertical_distance = mds - mds[max_projection_accumulation_index]\n",
    "vertical_distance"
   ]
  },
  {
   "cell_type": "code",
   "execution_count": 289,
   "metadata": {},
   "outputs": [
    {
     "data": {
      "text/plain": [
       "array([[ 0,  0, -1, -2, -3, -4, -5, -6,  0, -1, -2,  0]])"
      ]
     },
     "execution_count": 289,
     "metadata": {},
     "output_type": "execute_result"
    }
   ],
   "source": [
    "horizontal_distance = max_projection_accumulation_index - positions\n",
    "horizontal_distance"
   ]
  },
  {
   "cell_type": "code",
   "execution_count": 290,
   "metadata": {},
   "outputs": [
    {
     "data": {
      "text/plain": [
       "(array([  0,   0,  -4,  -6,  -3,  -3,  -9, -10,   0,  -5,  -4,   0]),\n",
       " array([[ 0,  0, -1, -2, -3, -4, -5, -6,  0, -1, -2,  0]]))"
      ]
     },
     "execution_count": 290,
     "metadata": {},
     "output_type": "execute_result"
    }
   ],
   "source": [
    "vertical_distance, horizontal_distance"
   ]
  },
  {
   "cell_type": "code",
   "execution_count": 291,
   "metadata": {},
   "outputs": [
    {
     "data": {
      "text/plain": [
       "array([[ 0.        ,  0.        , 75.96375653, 71.56505118, 45.        ,\n",
       "        36.86989765, 60.9453959 , 59.03624347,  0.        , 78.69006753,\n",
       "        63.43494882,  0.        ]])"
      ]
     },
     "execution_count": 291,
     "metadata": {},
     "output_type": "execute_result"
    }
   ],
   "source": [
    "np.rad2deg(np.arctan2(np.abs(vertical_distance), np.abs(horizontal_distance)))"
   ]
  },
  {
   "cell_type": "code",
   "execution_count": 265,
   "metadata": {},
   "outputs": [
    {
     "data": {
      "text/plain": [
       "array([[ 0.        ,  0.        , 75.96375653, 71.56505118,  0.        ,\n",
       "         0.        , 80.53767779, 74.0546041 ,  0.        , 78.69006753,\n",
       "        63.43494882,  0.        ]])"
      ]
     },
     "execution_count": 265,
     "metadata": {},
     "output_type": "execute_result"
    }
   ],
   "source": [
    "np.rad2deg(np.arctan2(np.abs(vertical_distance), np.abs(horizontal_distance)))"
   ]
  },
  {
   "cell_type": "code",
   "execution_count": 252,
   "metadata": {},
   "outputs": [
    {
     "data": {
      "text/plain": [
       "array([[ 0.        ,  0.        , 75.96375653,  0.        ,  0.        ,\n",
       "         0.        , 80.53767779,  0.        ,  0.        , 78.69006753,\n",
       "         0.        ,  0.        ]])"
      ]
     },
     "execution_count": 252,
     "metadata": {},
     "output_type": "execute_result"
    }
   ],
   "source": [
    "np.rad2deg(np.arctan2(np.abs(vertical_distance), np.abs(horizontal_distance)))"
   ]
  },
  {
   "cell_type": "code",
   "execution_count": null,
   "metadata": {},
   "outputs": [],
   "source": []
  },
  {
   "cell_type": "code",
   "execution_count": null,
   "metadata": {},
   "outputs": [],
   "source": []
  }
 ],
 "metadata": {
  "kernelspec": {
   "display_name": "Python 3.10.4 ('venv': venv)",
   "language": "python",
   "name": "python3"
  },
  "language_info": {
   "codemirror_mode": {
    "name": "ipython",
    "version": 3
   },
   "file_extension": ".py",
   "mimetype": "text/x-python",
   "name": "python",
   "nbconvert_exporter": "python",
   "pygments_lexer": "ipython3",
   "version": "3.10.4"
  },
  "orig_nbformat": 4,
  "vscode": {
   "interpreter": {
    "hash": "d65e2640be51c87deae8fa53a4f278cb6174fc45683c0d3af2b5a455a7e94a62"
   }
  }
 },
 "nbformat": 4,
 "nbformat_minor": 2
}
